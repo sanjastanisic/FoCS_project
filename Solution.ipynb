{
 "cells": [
  {
   "cell_type": "markdown",
   "metadata": {},
   "source": [
    "# FoCS Project - Solution\n",
    "\n",
    "You have to work on the [Kiva](https://drive.google.com/file/d/1-tJtnIbo1Rt-F1XfoWGVkmBXiI-ciuRx/view) dataset. Some information on the datasets are on the [Kaggle](https://www.kaggle.com/) web page."
   ]
  },
  {
   "cell_type": "markdown",
   "metadata": {},
   "source": [
    "## Task 1\n",
    "\n",
    "*Normalize the `loan_lenders` table. In the normalized table, each row must have one `loan_id` and one lender.*\n"
   ]
  },
  {
   "cell_type": "markdown",
   "metadata": {},
   "source": [
    "The first step is to read the `loan_lenders.csv` file and create a dataframe with unnormalized data. Since the file is very large, I introduced a bollean variable `FINAL` - if it is `false` then only a part of data is processed in order to spead up the work. Libraries `panda` and `numpy` will be used for data processing while the efficiency will be measured using the `time` library."
   ]
  },
  {
   "cell_type": "code",
   "execution_count": 3,
   "metadata": {},
   "outputs": [
    {
     "name": "stdout",
     "output_type": "stream",
     "text": [
      "--- 37.157421827316284 seconds ---\n"
     ]
    },
    {
     "data": {
      "text/html": [
       "<div>\n",
       "<style scoped>\n",
       "    .dataframe tbody tr th:only-of-type {\n",
       "        vertical-align: middle;\n",
       "    }\n",
       "\n",
       "    .dataframe tbody tr th {\n",
       "        vertical-align: top;\n",
       "    }\n",
       "\n",
       "    .dataframe thead th {\n",
       "        text-align: right;\n",
       "    }\n",
       "</style>\n",
       "<table border=\"1\" class=\"dataframe\">\n",
       "  <thead>\n",
       "    <tr style=\"text-align: right;\">\n",
       "      <th></th>\n",
       "      <th>loan_id</th>\n",
       "      <th>lenders</th>\n",
       "    </tr>\n",
       "  </thead>\n",
       "  <tbody>\n",
       "    <tr>\n",
       "      <td>0</td>\n",
       "      <td>483693</td>\n",
       "      <td>muc888, sam4326, camaran3922, lachheb1865, reb...</td>\n",
       "    </tr>\n",
       "    <tr>\n",
       "      <td>1</td>\n",
       "      <td>483738</td>\n",
       "      <td>muc888, nora3555, williammanashi, barbara5610,...</td>\n",
       "    </tr>\n",
       "    <tr>\n",
       "      <td>2</td>\n",
       "      <td>485000</td>\n",
       "      <td>muc888, terrystl, richardandsusan8352, sherri4...</td>\n",
       "    </tr>\n",
       "    <tr>\n",
       "      <td>3</td>\n",
       "      <td>486087</td>\n",
       "      <td>muc888, james5068, rudi5955, daniel9859, don92...</td>\n",
       "    </tr>\n",
       "    <tr>\n",
       "      <td>4</td>\n",
       "      <td>534428</td>\n",
       "      <td>muc888, niki3008, teresa9174, mike4896, david7...</td>\n",
       "    </tr>\n",
       "    <tr>\n",
       "      <td>...</td>\n",
       "      <td>...</td>\n",
       "      <td>...</td>\n",
       "    </tr>\n",
       "    <tr>\n",
       "      <td>9995</td>\n",
       "      <td>45940</td>\n",
       "      <td>helga4707, james6963, jimjams, andreas2382, si...</td>\n",
       "    </tr>\n",
       "    <tr>\n",
       "      <td>9996</td>\n",
       "      <td>247491</td>\n",
       "      <td>priyaram, christian9832, john9242, sandra1434,...</td>\n",
       "    </tr>\n",
       "    <tr>\n",
       "      <td>9997</td>\n",
       "      <td>345274</td>\n",
       "      <td>priyaram, nicola1093, bobby9744, simon7848, di...</td>\n",
       "    </tr>\n",
       "    <tr>\n",
       "      <td>9998</td>\n",
       "      <td>125945</td>\n",
       "      <td>joseph1859, matt5349, reese3555, stanley3312, ...</td>\n",
       "    </tr>\n",
       "    <tr>\n",
       "      <td>9999</td>\n",
       "      <td>225434</td>\n",
       "      <td>michael25572458, tom8330, garyk, manas8925, ma...</td>\n",
       "    </tr>\n",
       "  </tbody>\n",
       "</table>\n",
       "<p>10000 rows × 2 columns</p>\n",
       "</div>"
      ],
      "text/plain": [
       "      loan_id                                            lenders\n",
       "0      483693  muc888, sam4326, camaran3922, lachheb1865, reb...\n",
       "1      483738  muc888, nora3555, williammanashi, barbara5610,...\n",
       "2      485000  muc888, terrystl, richardandsusan8352, sherri4...\n",
       "3      486087  muc888, james5068, rudi5955, daniel9859, don92...\n",
       "4      534428  muc888, niki3008, teresa9174, mike4896, david7...\n",
       "...       ...                                                ...\n",
       "9995    45940  helga4707, james6963, jimjams, andreas2382, si...\n",
       "9996   247491  priyaram, christian9832, john9242, sandra1434,...\n",
       "9997   345274  priyaram, nicola1093, bobby9744, simon7848, di...\n",
       "9998   125945  joseph1859, matt5349, reese3555, stanley3312, ...\n",
       "9999   225434  michael25572458, tom8330, garyk, manas8925, ma...\n",
       "\n",
       "[10000 rows x 2 columns]"
      ]
     },
     "execution_count": 3,
     "metadata": {},
     "output_type": "execute_result"
    }
   ],
   "source": [
    "import pandas as pd\n",
    "import numpy as np\n",
    "import time as tm\n",
    "FINAL = False\n",
    "start_time = tm.time()\n",
    "loans_lenders_un = pd.read_csv('./data/loans_lenders.csv')\n",
    "if not FINAL:\n",
    "    loans_lenders_un = loans_lenders_un.head(10000) \n",
    "print(\"--- %s seconds ---\" % (tm.time()-start_time)) \n",
    "loans_lenders_un"
   ]
  },
  {
   "cell_type": "code",
   "execution_count": 4,
   "metadata": {},
   "outputs": [
    {
     "name": "stdout",
     "output_type": "stream",
     "text": [
      "--- 3.2877705097198486 seconds ---\n"
     ]
    },
    {
     "data": {
      "text/html": [
       "<div>\n",
       "<style scoped>\n",
       "    .dataframe tbody tr th:only-of-type {\n",
       "        vertical-align: middle;\n",
       "    }\n",
       "\n",
       "    .dataframe tbody tr th {\n",
       "        vertical-align: top;\n",
       "    }\n",
       "\n",
       "    .dataframe thead th {\n",
       "        text-align: right;\n",
       "    }\n",
       "</style>\n",
       "<table border=\"1\" class=\"dataframe\">\n",
       "  <thead>\n",
       "    <tr style=\"text-align: right;\">\n",
       "      <th></th>\n",
       "      <th>loan_id</th>\n",
       "      <th>lender</th>\n",
       "    </tr>\n",
       "  </thead>\n",
       "  <tbody>\n",
       "    <tr>\n",
       "      <td>0</td>\n",
       "      <td>483693</td>\n",
       "      <td>muc888</td>\n",
       "    </tr>\n",
       "    <tr>\n",
       "      <td>1</td>\n",
       "      <td>483693</td>\n",
       "      <td>sam4326</td>\n",
       "    </tr>\n",
       "    <tr>\n",
       "      <td>2</td>\n",
       "      <td>483693</td>\n",
       "      <td>camaran3922</td>\n",
       "    </tr>\n",
       "    <tr>\n",
       "      <td>3</td>\n",
       "      <td>483693</td>\n",
       "      <td>lachheb1865</td>\n",
       "    </tr>\n",
       "    <tr>\n",
       "      <td>4</td>\n",
       "      <td>483693</td>\n",
       "      <td>rebecca3499</td>\n",
       "    </tr>\n",
       "    <tr>\n",
       "      <td>...</td>\n",
       "      <td>...</td>\n",
       "      <td>...</td>\n",
       "    </tr>\n",
       "    <tr>\n",
       "      <td>245000</td>\n",
       "      <td>225434</td>\n",
       "      <td>wongacom3393</td>\n",
       "    </tr>\n",
       "    <tr>\n",
       "      <td>245001</td>\n",
       "      <td>225434</td>\n",
       "      <td>marleneanddel8151</td>\n",
       "    </tr>\n",
       "    <tr>\n",
       "      <td>245002</td>\n",
       "      <td>225434</td>\n",
       "      <td>joanne4956</td>\n",
       "    </tr>\n",
       "    <tr>\n",
       "      <td>245003</td>\n",
       "      <td>225434</td>\n",
       "      <td>juddie7070</td>\n",
       "    </tr>\n",
       "    <tr>\n",
       "      <td>245004</td>\n",
       "      <td>225434</td>\n",
       "      <td>keith7215</td>\n",
       "    </tr>\n",
       "  </tbody>\n",
       "</table>\n",
       "<p>245005 rows × 2 columns</p>\n",
       "</div>"
      ],
      "text/plain": [
       "        loan_id             lender\n",
       "0        483693             muc888\n",
       "1        483693            sam4326\n",
       "2        483693        camaran3922\n",
       "3        483693        lachheb1865\n",
       "4        483693        rebecca3499\n",
       "...         ...                ...\n",
       "245000   225434       wongacom3393\n",
       "245001   225434  marleneanddel8151\n",
       "245002   225434         joanne4956\n",
       "245003   225434         juddie7070\n",
       "245004   225434          keith7215\n",
       "\n",
       "[245005 rows x 2 columns]"
      ]
     },
     "execution_count": 4,
     "metadata": {},
     "output_type": "execute_result"
    }
   ],
   "source": [
    "start_time = tm.time()\n",
    "pairs_loan_lander = []\n",
    "for index, row in loans_lenders_un.iterrows(): \n",
    "    lenders = row['lenders'].split(',')\n",
    "    for l in lenders:\n",
    "        pairs_loan_lander.append({ 'loan_id' : row['loan_id'], 'lender': l.strip() })\n",
    "loans_lenders = pd.DataFrame(pairs_loan_lander) \n",
    "print(\"--- %s seconds ---\" % (tm.time()-start_time)) \n",
    "loans_lenders "
   ]
  },
  {
   "cell_type": "markdown",
   "metadata": {},
   "source": [
    "## Task 2\n",
    "\n",
    "*For each loan, add a column `duration` corresponding to the number of days between the disburse time and the planned expiration time. If any of those two dates is missing, also the duration must be missing.*\n",
    "\n",
    "Firstly, I'll read the `loans.csv` file.\n"
   ]
  },
  {
   "cell_type": "code",
   "execution_count": 5,
   "metadata": {
    "scrolled": true
   },
   "outputs": [
    {
     "ename": "MemoryError",
     "evalue": "",
     "output_type": "error",
     "traceback": [
      "\u001b[1;31m---------------------------------------------------------------------------\u001b[0m",
      "\u001b[1;31mMemoryError\u001b[0m                               Traceback (most recent call last)",
      "\u001b[1;32m<ipython-input-5-4e2dd9ee0cb7>\u001b[0m in \u001b[0;36m<module>\u001b[1;34m\u001b[0m\n\u001b[0;32m      1\u001b[0m \u001b[0mstart_time\u001b[0m \u001b[1;33m=\u001b[0m \u001b[0mtm\u001b[0m\u001b[1;33m.\u001b[0m\u001b[0mtime\u001b[0m\u001b[1;33m(\u001b[0m\u001b[1;33m)\u001b[0m\u001b[1;33m\u001b[0m\u001b[1;33m\u001b[0m\u001b[0m\n\u001b[1;32m----> 2\u001b[1;33m \u001b[0mloans\u001b[0m \u001b[1;33m=\u001b[0m \u001b[0mpd\u001b[0m\u001b[1;33m.\u001b[0m\u001b[0mread_csv\u001b[0m\u001b[1;33m(\u001b[0m\u001b[1;34m'./data/loans.csv'\u001b[0m\u001b[1;33m)\u001b[0m\u001b[1;33m\u001b[0m\u001b[1;33m\u001b[0m\u001b[0m\n\u001b[0m\u001b[0;32m      3\u001b[0m \u001b[1;32mif\u001b[0m \u001b[1;32mnot\u001b[0m \u001b[0mFINAL\u001b[0m\u001b[1;33m:\u001b[0m\u001b[1;33m\u001b[0m\u001b[1;33m\u001b[0m\u001b[0m\n\u001b[0;32m      4\u001b[0m     \u001b[0mloans\u001b[0m \u001b[1;33m=\u001b[0m \u001b[0mloans\u001b[0m\u001b[1;33m.\u001b[0m\u001b[0mhead\u001b[0m\u001b[1;33m(\u001b[0m\u001b[1;36m20000\u001b[0m\u001b[1;33m)\u001b[0m\u001b[1;33m\u001b[0m\u001b[1;33m\u001b[0m\u001b[0m\n\u001b[0;32m      5\u001b[0m \u001b[0mtime\u001b[0m \u001b[1;33m=\u001b[0m \u001b[0mtm\u001b[0m\u001b[1;33m.\u001b[0m\u001b[0mtime\u001b[0m\u001b[1;33m(\u001b[0m\u001b[1;33m)\u001b[0m \u001b[1;33m-\u001b[0m\u001b[0mstart_time\u001b[0m\u001b[1;33m\u001b[0m\u001b[1;33m\u001b[0m\u001b[0m\n",
      "\u001b[1;32mC:\\ProgramData\\Anaconda3\\lib\\site-packages\\pandas\\io\\parsers.py\u001b[0m in \u001b[0;36mparser_f\u001b[1;34m(filepath_or_buffer, sep, delimiter, header, names, index_col, usecols, squeeze, prefix, mangle_dupe_cols, dtype, engine, converters, true_values, false_values, skipinitialspace, skiprows, skipfooter, nrows, na_values, keep_default_na, na_filter, verbose, skip_blank_lines, parse_dates, infer_datetime_format, keep_date_col, date_parser, dayfirst, cache_dates, iterator, chunksize, compression, thousands, decimal, lineterminator, quotechar, quoting, doublequote, escapechar, comment, encoding, dialect, error_bad_lines, warn_bad_lines, delim_whitespace, low_memory, memory_map, float_precision)\u001b[0m\n\u001b[0;32m    683\u001b[0m         )\n\u001b[0;32m    684\u001b[0m \u001b[1;33m\u001b[0m\u001b[0m\n\u001b[1;32m--> 685\u001b[1;33m         \u001b[1;32mreturn\u001b[0m \u001b[0m_read\u001b[0m\u001b[1;33m(\u001b[0m\u001b[0mfilepath_or_buffer\u001b[0m\u001b[1;33m,\u001b[0m \u001b[0mkwds\u001b[0m\u001b[1;33m)\u001b[0m\u001b[1;33m\u001b[0m\u001b[1;33m\u001b[0m\u001b[0m\n\u001b[0m\u001b[0;32m    686\u001b[0m \u001b[1;33m\u001b[0m\u001b[0m\n\u001b[0;32m    687\u001b[0m     \u001b[0mparser_f\u001b[0m\u001b[1;33m.\u001b[0m\u001b[0m__name__\u001b[0m \u001b[1;33m=\u001b[0m \u001b[0mname\u001b[0m\u001b[1;33m\u001b[0m\u001b[1;33m\u001b[0m\u001b[0m\n",
      "\u001b[1;32mC:\\ProgramData\\Anaconda3\\lib\\site-packages\\pandas\\io\\parsers.py\u001b[0m in \u001b[0;36m_read\u001b[1;34m(filepath_or_buffer, kwds)\u001b[0m\n\u001b[0;32m    461\u001b[0m \u001b[1;33m\u001b[0m\u001b[0m\n\u001b[0;32m    462\u001b[0m     \u001b[1;32mtry\u001b[0m\u001b[1;33m:\u001b[0m\u001b[1;33m\u001b[0m\u001b[1;33m\u001b[0m\u001b[0m\n\u001b[1;32m--> 463\u001b[1;33m         \u001b[0mdata\u001b[0m \u001b[1;33m=\u001b[0m \u001b[0mparser\u001b[0m\u001b[1;33m.\u001b[0m\u001b[0mread\u001b[0m\u001b[1;33m(\u001b[0m\u001b[0mnrows\u001b[0m\u001b[1;33m)\u001b[0m\u001b[1;33m\u001b[0m\u001b[1;33m\u001b[0m\u001b[0m\n\u001b[0m\u001b[0;32m    464\u001b[0m     \u001b[1;32mfinally\u001b[0m\u001b[1;33m:\u001b[0m\u001b[1;33m\u001b[0m\u001b[1;33m\u001b[0m\u001b[0m\n\u001b[0;32m    465\u001b[0m         \u001b[0mparser\u001b[0m\u001b[1;33m.\u001b[0m\u001b[0mclose\u001b[0m\u001b[1;33m(\u001b[0m\u001b[1;33m)\u001b[0m\u001b[1;33m\u001b[0m\u001b[1;33m\u001b[0m\u001b[0m\n",
      "\u001b[1;32mC:\\ProgramData\\Anaconda3\\lib\\site-packages\\pandas\\io\\parsers.py\u001b[0m in \u001b[0;36mread\u001b[1;34m(self, nrows)\u001b[0m\n\u001b[0;32m   1152\u001b[0m     \u001b[1;32mdef\u001b[0m \u001b[0mread\u001b[0m\u001b[1;33m(\u001b[0m\u001b[0mself\u001b[0m\u001b[1;33m,\u001b[0m \u001b[0mnrows\u001b[0m\u001b[1;33m=\u001b[0m\u001b[1;32mNone\u001b[0m\u001b[1;33m)\u001b[0m\u001b[1;33m:\u001b[0m\u001b[1;33m\u001b[0m\u001b[1;33m\u001b[0m\u001b[0m\n\u001b[0;32m   1153\u001b[0m         \u001b[0mnrows\u001b[0m \u001b[1;33m=\u001b[0m \u001b[0m_validate_integer\u001b[0m\u001b[1;33m(\u001b[0m\u001b[1;34m\"nrows\"\u001b[0m\u001b[1;33m,\u001b[0m \u001b[0mnrows\u001b[0m\u001b[1;33m)\u001b[0m\u001b[1;33m\u001b[0m\u001b[1;33m\u001b[0m\u001b[0m\n\u001b[1;32m-> 1154\u001b[1;33m         \u001b[0mret\u001b[0m \u001b[1;33m=\u001b[0m \u001b[0mself\u001b[0m\u001b[1;33m.\u001b[0m\u001b[0m_engine\u001b[0m\u001b[1;33m.\u001b[0m\u001b[0mread\u001b[0m\u001b[1;33m(\u001b[0m\u001b[0mnrows\u001b[0m\u001b[1;33m)\u001b[0m\u001b[1;33m\u001b[0m\u001b[1;33m\u001b[0m\u001b[0m\n\u001b[0m\u001b[0;32m   1155\u001b[0m \u001b[1;33m\u001b[0m\u001b[0m\n\u001b[0;32m   1156\u001b[0m         \u001b[1;31m# May alter columns / col_dict\u001b[0m\u001b[1;33m\u001b[0m\u001b[1;33m\u001b[0m\u001b[1;33m\u001b[0m\u001b[0m\n",
      "\u001b[1;32mC:\\ProgramData\\Anaconda3\\lib\\site-packages\\pandas\\io\\parsers.py\u001b[0m in \u001b[0;36mread\u001b[1;34m(self, nrows)\u001b[0m\n\u001b[0;32m   2057\u001b[0m     \u001b[1;32mdef\u001b[0m \u001b[0mread\u001b[0m\u001b[1;33m(\u001b[0m\u001b[0mself\u001b[0m\u001b[1;33m,\u001b[0m \u001b[0mnrows\u001b[0m\u001b[1;33m=\u001b[0m\u001b[1;32mNone\u001b[0m\u001b[1;33m)\u001b[0m\u001b[1;33m:\u001b[0m\u001b[1;33m\u001b[0m\u001b[1;33m\u001b[0m\u001b[0m\n\u001b[0;32m   2058\u001b[0m         \u001b[1;32mtry\u001b[0m\u001b[1;33m:\u001b[0m\u001b[1;33m\u001b[0m\u001b[1;33m\u001b[0m\u001b[0m\n\u001b[1;32m-> 2059\u001b[1;33m             \u001b[0mdata\u001b[0m \u001b[1;33m=\u001b[0m \u001b[0mself\u001b[0m\u001b[1;33m.\u001b[0m\u001b[0m_reader\u001b[0m\u001b[1;33m.\u001b[0m\u001b[0mread\u001b[0m\u001b[1;33m(\u001b[0m\u001b[0mnrows\u001b[0m\u001b[1;33m)\u001b[0m\u001b[1;33m\u001b[0m\u001b[1;33m\u001b[0m\u001b[0m\n\u001b[0m\u001b[0;32m   2060\u001b[0m         \u001b[1;32mexcept\u001b[0m \u001b[0mStopIteration\u001b[0m\u001b[1;33m:\u001b[0m\u001b[1;33m\u001b[0m\u001b[1;33m\u001b[0m\u001b[0m\n\u001b[0;32m   2061\u001b[0m             \u001b[1;32mif\u001b[0m \u001b[0mself\u001b[0m\u001b[1;33m.\u001b[0m\u001b[0m_first_chunk\u001b[0m\u001b[1;33m:\u001b[0m\u001b[1;33m\u001b[0m\u001b[1;33m\u001b[0m\u001b[0m\n",
      "\u001b[1;32mpandas\\_libs\\parsers.pyx\u001b[0m in \u001b[0;36mpandas._libs.parsers.TextReader.read\u001b[1;34m()\u001b[0m\n",
      "\u001b[1;32mpandas\\_libs\\parsers.pyx\u001b[0m in \u001b[0;36mpandas._libs.parsers.TextReader._read_low_memory\u001b[1;34m()\u001b[0m\n",
      "\u001b[1;32mpandas\\_libs\\parsers.pyx\u001b[0m in \u001b[0;36mpandas._libs.parsers.TextReader._read_rows\u001b[1;34m()\u001b[0m\n",
      "\u001b[1;32mpandas\\_libs\\parsers.pyx\u001b[0m in \u001b[0;36mpandas._libs.parsers.TextReader._convert_column_data\u001b[1;34m()\u001b[0m\n",
      "\u001b[1;32mpandas\\_libs\\parsers.pyx\u001b[0m in \u001b[0;36mpandas._libs.parsers.TextReader._convert_tokens\u001b[1;34m()\u001b[0m\n",
      "\u001b[1;32mpandas\\_libs\\parsers.pyx\u001b[0m in \u001b[0;36mpandas._libs.parsers.TextReader._convert_with_dtype\u001b[1;34m()\u001b[0m\n",
      "\u001b[1;32mpandas\\_libs\\parsers.pyx\u001b[0m in \u001b[0;36mpandas._libs.parsers._try_int64\u001b[1;34m()\u001b[0m\n",
      "\u001b[1;31mMemoryError\u001b[0m: "
     ]
    }
   ],
   "source": [
    "start_time = tm.time()\n",
    "loans = pd.read_csv('./data/loans.csv')\n",
    "if not FINAL:\n",
    "    loans = loans.head(20000)\n",
    "time = tm.time() -start_time\n",
    "print(\"--- %s seconds ---\" % time) \n",
    "loans"
   ]
  },
  {
   "cell_type": "markdown",
   "metadata": {},
   "source": [
    "In order to see the exact titles of the columns and their values I'll do as followes:"
   ]
  },
  {
   "cell_type": "code",
   "execution_count": null,
   "metadata": {},
   "outputs": [],
   "source": [
    "loans.columns"
   ]
  },
  {
   "cell_type": "code",
   "execution_count": null,
   "metadata": {},
   "outputs": [],
   "source": [
    "loans['planned_expiration_time']\n"
   ]
  },
  {
   "cell_type": "code",
   "execution_count": null,
   "metadata": {},
   "outputs": [],
   "source": [
    "loans['disburse_time']"
   ]
  },
  {
   "cell_type": "markdown",
   "metadata": {},
   "source": [
    "A `duration` coulmn is created and filled with `None`. \n",
    "I'm going now through every row of the dataframe `loans`, and pick the values of the `planned_expiration_time` and `disburse_time`. \n",
    "In order to check whether there are missing values I'm using the `pd.notna` method. \n",
    "Since in both columns the time is recorded as `str`, a `strptime` method from the `datetime` library is used to transform strings into date-time format. Subsequently, the value of the `disburse_time` is subtracted from the value of the `planned_expiration_time`, and `days` metod gives the value of this difference converted in days. \n",
    "Finally, a restricted view of the resulting dataframe is displayed. "
   ]
  },
  {
   "cell_type": "code",
   "execution_count": null,
   "metadata": {},
   "outputs": [],
   "source": [
    "from datetime import datetime as dt\n",
    "start_time = tm.time()\n",
    "loans['duration'] = None\n",
    "for index, row in loans.iterrows(): \n",
    "    s2 = row['planned_expiration_time']\n",
    "    s1 = row['disburse_time']\n",
    "    if( pd.notna(s1) and pd.notna(s2) and s1 != '' and s2 != ''):\n",
    "        d2 = dt.strptime(s2, \"%Y-%m-%d %H:%M:%S.%f %z\")\n",
    "        d1 = dt.strptime(s1, \"%Y-%m-%d %H:%M:%S.%f %z\")\n",
    "        loans.loc[index,'duration'] = (d2 - d1).days \n",
    "print(\"--- %s seconds ---\" % (tm.time()-start_time)) \n",
    "loans_restricted = loans[ ['loan_id', 'loan_name','planned_expiration_time', 'disburse_time', 'duration'] ]\n",
    "loans_restricted"
   ]
  },
  {
   "cell_type": "markdown",
   "metadata": {},
   "source": [
    "Hovewer, much efficient way of solving this task is to create an auxilliary function `daysbetween` which transforms input parameters from strings into date-time, and calulate the difference in days. Then the function is applied to each row of the `loans` dataframe. "
   ]
  },
  {
   "cell_type": "code",
   "execution_count": null,
   "metadata": {},
   "outputs": [],
   "source": [
    "from datetime import datetime as dt\n",
    "\n",
    "def daysbetween(s1,s2):\n",
    "    if( pd.notna(s1) and pd.notna(s2) and s1 != '' and s2 != ''):\n",
    "        d2 = dt.strptime(s2, \"%Y-%m-%d %H:%M:%S.%f %z\")\n",
    "        d1 = dt.strptime(s1, \"%Y-%m-%d %H:%M:%S.%f %z\")\n",
    "        return (d2 - d1).days \n",
    "    else:\n",
    "        return None\n",
    "\n",
    "start_time = tm.time()\n",
    "loans['duration'] = loans.apply(lambda x: daysbetween(x['disburse_time'],x['planned_expiration_time']), axis=1)\n",
    "print(\"--- %s seconds ---\" % (tm.time()-start_time)) \n",
    "loans_restricted = loans[ ['loan_id', 'loan_name','planned_expiration_time', 'disburse_time', 'duration'] ]\n",
    "loans_restricted"
   ]
  },
  {
   "cell_type": "markdown",
   "metadata": {},
   "source": [
    "## Task 3\n",
    "\n",
    "*Find the lenders that have funded at least twice.*"
   ]
  },
  {
   "cell_type": "markdown",
   "metadata": {},
   "source": [
    "For this analysis, the dataframe `loans-lenders`, resulting from the first task. Lenders that have corresponding two or more `loan_id` have funded at least twice. "
   ]
  },
  {
   "cell_type": "code",
   "execution_count": null,
   "metadata": {},
   "outputs": [],
   "source": [
    "start_time = tm.time()\n",
    "groups = loans_lenders.groupby(\"lender\").lender.count()\n",
    "groups\n",
    "lenders_2more = []\n",
    "for x in groups.iteritems(): \n",
    "    if x[1]  >= 2:\n",
    "        lenders_2more.append(x)\n",
    "print(\"--- %s seconds ---\" % (tm.time()-start_time)) \n",
    "lenders_2more"
   ]
  },
  {
   "cell_type": "markdown",
   "metadata": {},
   "source": [
    "## Task 4\n",
    "\n",
    "*For each country, compute how many loans have involved that country as borrowers.*"
   ]
  },
  {
   "cell_type": "markdown",
   "metadata": {},
   "source": [
    "From the dataframe `loans` I'm grouping by `country_name` and counting the `loan_id`."
   ]
  },
  {
   "cell_type": "code",
   "execution_count": null,
   "metadata": {},
   "outputs": [],
   "source": [
    "start_time = tm.time()\n",
    "countries = loans.groupby(\"country_name\").country_name.count()\n",
    "print(\"--- %s seconds ---\" % (tm.time()-start_time)) \n",
    "countries"
   ]
  },
  {
   "cell_type": "markdown",
   "metadata": {},
   "source": [
    "## Task 5\n",
    "\n",
    "*For each country, compute the overall amount of money borrowed.*"
   ]
  },
  {
   "cell_type": "markdown",
   "metadata": {},
   "source": [
    "Again, the dataframe `loans` is processed. After grouping by `country_name`, the `loan_amount` is summed."
   ]
  },
  {
   "cell_type": "code",
   "execution_count": null,
   "metadata": {},
   "outputs": [],
   "source": [
    "start_time = tm.time()\n",
    "amount_per_country = loans.groupby(\"country_name\").loan_amount.sum()\n",
    "print(\"--- %s seconds ---\" % (tm.time()-start_time)) \n",
    "amount_per_country "
   ]
  },
  {
   "cell_type": "markdown",
   "metadata": {},
   "source": [
    "## Task 6\n",
    "\n",
    "*Like the previous point, but expressed as a percentage of the overall amount lent* "
   ]
  },
  {
   "cell_type": "markdown",
   "metadata": {},
   "source": [
    "First the total amount is calculated. A helper function `calculate_percent` is created in order to calculate the percentage `loan_amount/total_amount*100`, and it is then applied to each row of the series `amount_per_country`."
   ]
  },
  {
   "cell_type": "code",
   "execution_count": null,
   "metadata": {},
   "outputs": [],
   "source": [
    "start_time = tm.time()\n",
    "total_amount = loans.loan_amount.sum()\n",
    "\n",
    "def calculate_percent(v):\n",
    "    return (v / total_amount) * 100\n",
    "\n",
    "percentage_per_country= amount_per_country.apply(lambda x: calculate_percent(x))\n",
    "print(\"--- %s seconds ---\" % (tm.time()-start_time)) \n",
    "percentage_per_country"
   ]
  },
  {
   "cell_type": "markdown",
   "metadata": {},
   "source": [
    "## Task 7\n",
    "\n",
    "*Like the three previous points, but split for each year (with respect to disburse time).*"
   ]
  },
  {
   "cell_type": "markdown",
   "metadata": {},
   "source": [
    "Firstly, an auxiliary function `year2` is made in order to enable extracting year from the date.  Subsequently this function is applied on each row of the `loans` dataframe enabling creation of new coulmn `disburse_year`."
   ]
  },
  {
   "cell_type": "code",
   "execution_count": null,
   "metadata": {},
   "outputs": [],
   "source": [
    "start_time = tm.time()\n",
    "from datetime import datetime as dt\n",
    "def year2 (s):\n",
    "    if( pd.notna(s) and s != ''):\n",
    "        d = dt.strptime(s, \"%Y-%m-%d %H:%M:%S.%f %z\")\n",
    "        return d.year\n",
    "    return None\n",
    "    \n",
    "loans[\"disburse_year\"] = loans.disburse_time.map(lambda x: year2(x))\n",
    "loans\n",
    "\n"
   ]
  },
  {
   "cell_type": "markdown",
   "metadata": {},
   "source": [
    "### Task 7.1\n",
    "\n",
    "*For each country, compute how many loans have involved that country as borrowers per year.*"
   ]
  },
  {
   "cell_type": "code",
   "execution_count": null,
   "metadata": {},
   "outputs": [],
   "source": [
    "start_time = tm.time()\n",
    "countries_per_year = loans.groupby([\"country_name\", \"disburse_year\"]).country_name.count()\n",
    "countries_per_year\n",
    "print(\"--- %s seconds ---\" % (tm.time()-start_time)) \n",
    "countries_per_year"
   ]
  },
  {
   "cell_type": "markdown",
   "metadata": {},
   "source": [
    "### Task 7.2\n",
    "\n",
    "*For each country, compute the overall amount of money borrowed per year.*"
   ]
  },
  {
   "cell_type": "code",
   "execution_count": null,
   "metadata": {
    "scrolled": true
   },
   "outputs": [],
   "source": [
    "amount_per_country_per_year = loans.groupby([\"country_name\",\"disburse_year\"]).loan_amount.sum()\n",
    "amount_per_country_per_year                                    \n"
   ]
  },
  {
   "cell_type": "markdown",
   "metadata": {},
   "source": [
    "### Task 7.3\n",
    "\n",
    "*Like the previous point, but expressed as a percentage of the overall amount lent per year.* "
   ]
  },
  {
   "cell_type": "markdown",
   "metadata": {},
   "source": [
    "Firstly, `total_amount_per_year` is calculated."
   ]
  },
  {
   "cell_type": "code",
   "execution_count": null,
   "metadata": {},
   "outputs": [],
   "source": [
    "total_amount_per_year = loans.groupby(\"disburse_year\").loan_amount.sum()\n",
    "total_amount_per_year"
   ]
  },
  {
   "cell_type": "markdown",
   "metadata": {},
   "source": [
    "An auxiliary function `find_total_per_year` is created in order to enable accessing the total amounts for each year, needed later to calculate the percentage. \n",
    "We iterate through `amount_per_country_per_year`, extract the loan amounts grouped by country and year, anc calculate the percentage. As a result, there is a list of dictionaries then converted in dataframe. "
   ]
  },
  {
   "cell_type": "code",
   "execution_count": null,
   "metadata": {},
   "outputs": [],
   "source": [
    "def find_total_per_year(y):\n",
    "    for x in total_amount_per_year.items():\n",
    "        if x[0] == y:\n",
    "            return x[1]\n",
    "    return 0\n",
    "\n",
    "result = []\n",
    "start_time = tm.time()\n",
    "for x in amount_per_country_per_year.items():\n",
    "    v = x[1]\n",
    "    y = x[0][1]\n",
    "    c = x[0][0]\n",
    "    tot = find_total_per_year(y)\n",
    "    perc = (v / tot) * 100\n",
    "    result.append({\"country_name\":c, \"disburse_year\":y, \"percent\":perc })\n",
    "result = pd.DataFrame(result)\n",
    "print(\"--- %s seconds ---\" % (tm.time()-start_time)) \n",
    "result"
   ]
  },
  {
   "cell_type": "markdown",
   "metadata": {},
   "source": [
    "## Task 8\n",
    "\n",
    "*For each lender, compute the overall amount of money lent. For each loan that has more than one lender, you must assume that all lenders contributed the same amount*"
   ]
  },
  {
   "cell_type": "markdown",
   "metadata": {},
   "source": [
    "Two dataframes, `loans` and `loans_lenders` are merged.\n",
    "The resulting dataframe `number_of_lenders_by_loan_id` has the number of lenders per each loan.\n",
    "The amount per lender is calculated assuming ttah each lender contributed the same to the loan amount. \n",
    "Finally, in order to obtain the total sum per lender, the dataframe is gro"
   ]
  },
  {
   "cell_type": "code",
   "execution_count": null,
   "metadata": {},
   "outputs": [],
   "source": [
    "start_time = tm.time()\n",
    "merged = pd.merge(left=loans_lenders,right=loans, left_on=\"loan_id\", right_on=\"loan_id\")\n",
    "merged = merged[[\"loan_id\",\"lender\", \"loan_amount\"]]\n",
    "number_of_lenders_by_loan_id = merged.groupby([\"loan_id\"], as_index = False)[[\"lender\"]].count()\n",
    "number_of_lenders_by_loan_id\n",
    "merged2 = pd.merge(left=merged,right=number_of_lenders_by_loan_id, left_on=\"loan_id\", right_on=\"loan_id\")\n",
    "merged2[\"amount_per_lender\"] = merged2.loan_amount / merged2.lender_y\n",
    "merged2\n",
    "lent_by_lender = merged2.groupby([\"lender_x\"], as_index = False)[[\"amount_per_lender\"]].sum()\n",
    "print(\"--- %s seconds ---\" % (tm.time()-start_time)) \n",
    "lent_by_lender"
   ]
  },
  {
   "cell_type": "markdown",
   "metadata": {},
   "source": [
    "## Task 9\n",
    "\n",
    "*For each country, compute the difference between the overall amount of money lent and the overall amount of money borrowed. Since the country of the lender is often unknown, you can assume that the true distribution among the countries is the same as the one computed from the rows where the country is known.*"
   ]
  },
  {
   "cell_type": "markdown",
   "metadata": {},
   "source": [
    "The file `lenders.csv` contains data related to lenders. `lender_states` is a newely created dataframe containing `country_code` and `permanent_name`."
   ]
  },
  {
   "cell_type": "code",
   "execution_count": null,
   "metadata": {},
   "outputs": [],
   "source": [
    "start_time = tm.time()\n",
    "lenders = pd.read_csv(\"./data/lenders.csv\")\n",
    "if not FINAL:\n",
    "    lenders = lenders.head(20000) \n",
    "lender_states = lenders[[\"permanent_name\",\"country_code\"]]\n",
    "print(\"--- %s seconds ---\" % (tm.time()-start_time)) \n",
    "lender_states"
   ]
  },
  {
   "cell_type": "markdown",
   "metadata": {},
   "source": [
    "The dataframe `lenders_in_states` contains data related to lenders whose country is known. "
   ]
  },
  {
   "cell_type": "code",
   "execution_count": null,
   "metadata": {},
   "outputs": [],
   "source": [
    "lenders_in_states = lender_states.loc[lender_states['country_code'].notnull()]\n",
    "lenders_in_states"
   ]
  },
  {
   "cell_type": "markdown",
   "metadata": {},
   "source": [
    "The dataframe `lenders_without_states` contains data related to lenders whose country is unknown or the data is missing. "
   ]
  },
  {
   "cell_type": "code",
   "execution_count": null,
   "metadata": {},
   "outputs": [],
   "source": [
    "lenders_without_states = lender_states.loc[lender_states[\"country_code\"].isnull()]\n",
    "lenders_without_states"
   ]
  },
  {
   "cell_type": "markdown",
   "metadata": {},
   "source": [
    "In order to calculate the participation of each country in total amount of lent loans, the following calculation is done:"
   ]
  },
  {
   "cell_type": "code",
   "execution_count": null,
   "metadata": {},
   "outputs": [],
   "source": [
    "start_time = tm.time()\n",
    "lent_and_state = pd.merge(left=lent_by_lender, right=lenders_in_states, left_on='lender_x', right_on='permanent_name')\n",
    "lent_total = lent_and_state['amount_per_lender'].sum()\n",
    "lent_by_state = lent_and_state.groupby(['country_code'], as_index = False\\\n",
    "                                      ).agg({'amount_per_lender':['count', 'sum', \\\n",
    "                                                               lambda x: x.sum()/lent_total]})\n",
    "lent_by_state.columns = ['country_code', 'lent_count', 'lent_sum', 'lent_factor']\n",
    "print(\"--- %s seconds ---\" % (tm.time()-start_time)) \n",
    "lent_by_state"
   ]
  },
  {
   "cell_type": "markdown",
   "metadata": {},
   "source": [
    "Total amount of lent money for the lenders with unknown/unavailable country is being calculated"
   ]
  },
  {
   "cell_type": "code",
   "execution_count": null,
   "metadata": {},
   "outputs": [],
   "source": [
    "lent_no_state = pd.merge(left=lent_by_lender, right=lenders_without_states, \\\n",
    "                         left_on='lender_x', right_on='permanent_name')\n",
    "lent_no_state_total = lent_no_state['amount_per_lender'].sum()\n",
    "lent_no_state_total"
   ]
  },
  {
   "cell_type": "markdown",
   "metadata": {},
   "source": [
    "This amount is factorized as previously calculated, and added to `lent_by_state` datafrime as requested in the task."
   ]
  },
  {
   "cell_type": "code",
   "execution_count": null,
   "metadata": {},
   "outputs": [],
   "source": [
    "lent_by_state['additional_lent'] = lent_by_state.lent_factor * lent_no_state_total\n",
    "lent_by_state"
   ]
  },
  {
   "cell_type": "markdown",
   "metadata": {},
   "source": [
    "`loan_and_state` is the dataframe obtained by reducing the `loans` dataframe to the following three columns:"
   ]
  },
  {
   "cell_type": "code",
   "execution_count": null,
   "metadata": {},
   "outputs": [],
   "source": [
    "loan_and_state = loans[['loan_id','country_code','loan_amount']]\n",
    "loan_and_state"
   ]
  },
  {
   "cell_type": "markdown",
   "metadata": {},
   "source": [
    "The loan amount per contry is calculated."
   ]
  },
  {
   "cell_type": "code",
   "execution_count": null,
   "metadata": {},
   "outputs": [],
   "source": [
    "start_time = tm.time()\n",
    "loan_by_state = loan_and_state.groupby(['country_code'], as_index = False).loan_amount.sum()\n",
    "loan_by_state.columns = ['country_code','loan_amount_sum']\n",
    "print(\"--- %s seconds ---\" % (tm.time()-start_time)) \n",
    "loan_by_state"
   ]
  },
  {
   "cell_type": "markdown",
   "metadata": {},
   "source": [
    "Two data frames relating to loaned and lent amounts per country are joined (left join since there are much more loans), the difference is calculated and finally, the entry with maximum difference is displayed."
   ]
  },
  {
   "cell_type": "code",
   "execution_count": null,
   "metadata": {},
   "outputs": [],
   "source": [
    "start_time = tm.time()\n",
    "loan_and_lent = pd.merge(loan_by_state, lent_by_state, how='left', on=['country_code'])\n",
    "loan_and_lent['difference'] = loan_and_lent.loan_amount_sum - loan_and_lent.lent_sum - loan_and_lent.additional_lent \n",
    "print(\"--- %s seconds ---\" % (tm.time()-start_time)) \n",
    "loan_and_lent[loan_and_lent.difference == loan_and_lent.difference.max()]\n"
   ]
  },
  {
   "cell_type": "markdown",
   "metadata": {},
   "source": [
    "## Task 10\n",
    "\n",
    "*Which country has the highest ratio between the difference computed at the previous point and the population?*"
   ]
  },
  {
   "cell_type": "markdown",
   "metadata": {},
   "source": [
    "The data related to population are contained in the file `country_stat.csv`"
   ]
  },
  {
   "cell_type": "code",
   "execution_count": 6,
   "metadata": {},
   "outputs": [
    {
     "name": "stdout",
     "output_type": "stream",
     "text": [
      "--- 1.859508991241455 seconds ---\n"
     ]
    },
    {
     "data": {
      "text/html": [
       "<div>\n",
       "<style scoped>\n",
       "    .dataframe tbody tr th:only-of-type {\n",
       "        vertical-align: middle;\n",
       "    }\n",
       "\n",
       "    .dataframe tbody tr th {\n",
       "        vertical-align: top;\n",
       "    }\n",
       "\n",
       "    .dataframe thead th {\n",
       "        text-align: right;\n",
       "    }\n",
       "</style>\n",
       "<table border=\"1\" class=\"dataframe\">\n",
       "  <thead>\n",
       "    <tr style=\"text-align: right;\">\n",
       "      <th></th>\n",
       "      <th>country_code</th>\n",
       "      <th>country_name</th>\n",
       "      <th>population</th>\n",
       "      <th>population_below_poverty_line</th>\n",
       "    </tr>\n",
       "  </thead>\n",
       "  <tbody>\n",
       "    <tr>\n",
       "      <td>0</td>\n",
       "      <td>IN</td>\n",
       "      <td>India</td>\n",
       "      <td>1339180127</td>\n",
       "      <td>21.9</td>\n",
       "    </tr>\n",
       "    <tr>\n",
       "      <td>1</td>\n",
       "      <td>NG</td>\n",
       "      <td>Nigeria</td>\n",
       "      <td>190886311</td>\n",
       "      <td>70.0</td>\n",
       "    </tr>\n",
       "    <tr>\n",
       "      <td>2</td>\n",
       "      <td>MX</td>\n",
       "      <td>Mexico</td>\n",
       "      <td>129163276</td>\n",
       "      <td>46.2</td>\n",
       "    </tr>\n",
       "    <tr>\n",
       "      <td>3</td>\n",
       "      <td>PK</td>\n",
       "      <td>Pakistan</td>\n",
       "      <td>197015955</td>\n",
       "      <td>29.5</td>\n",
       "    </tr>\n",
       "    <tr>\n",
       "      <td>4</td>\n",
       "      <td>BD</td>\n",
       "      <td>Bangladesh</td>\n",
       "      <td>164669751</td>\n",
       "      <td>31.5</td>\n",
       "    </tr>\n",
       "    <tr>\n",
       "      <td>...</td>\n",
       "      <td>...</td>\n",
       "      <td>...</td>\n",
       "      <td>...</td>\n",
       "      <td>...</td>\n",
       "    </tr>\n",
       "    <tr>\n",
       "      <td>147</td>\n",
       "      <td>MT</td>\n",
       "      <td>Malta</td>\n",
       "      <td>430835</td>\n",
       "      <td>16.3</td>\n",
       "    </tr>\n",
       "    <tr>\n",
       "      <td>148</td>\n",
       "      <td>MV</td>\n",
       "      <td>Maldives</td>\n",
       "      <td>436330</td>\n",
       "      <td>16.0</td>\n",
       "    </tr>\n",
       "    <tr>\n",
       "      <td>149</td>\n",
       "      <td>ME</td>\n",
       "      <td>Montenegro</td>\n",
       "      <td>628960</td>\n",
       "      <td>8.6</td>\n",
       "    </tr>\n",
       "    <tr>\n",
       "      <td>150</td>\n",
       "      <td>TM</td>\n",
       "      <td>Turkmenistan</td>\n",
       "      <td>5758075</td>\n",
       "      <td>0.2</td>\n",
       "    </tr>\n",
       "    <tr>\n",
       "      <td>173</td>\n",
       "      <td>XK</td>\n",
       "      <td>Kosovo</td>\n",
       "      <td>1895250</td>\n",
       "      <td>30.0</td>\n",
       "    </tr>\n",
       "  </tbody>\n",
       "</table>\n",
       "<p>152 rows × 4 columns</p>\n",
       "</div>"
      ],
      "text/plain": [
       "    country_code  country_name  population  population_below_poverty_line\n",
       "0             IN         India  1339180127                           21.9\n",
       "1             NG       Nigeria   190886311                           70.0\n",
       "2             MX        Mexico   129163276                           46.2\n",
       "3             PK      Pakistan   197015955                           29.5\n",
       "4             BD    Bangladesh   164669751                           31.5\n",
       "..           ...           ...         ...                            ...\n",
       "147           MT         Malta      430835                           16.3\n",
       "148           MV      Maldives      436330                           16.0\n",
       "149           ME    Montenegro      628960                            8.6\n",
       "150           TM  Turkmenistan     5758075                            0.2\n",
       "173           XK        Kosovo     1895250                           30.0\n",
       "\n",
       "[152 rows x 4 columns]"
      ]
     },
     "execution_count": 6,
     "metadata": {},
     "output_type": "execute_result"
    }
   ],
   "source": [
    "start_time = tm.time()\n",
    "country_stat = pd.read_csv('./data/country_stats.csv')\n",
    "country_stat = country_stat[['country_code', 'country_name', 'population', 'population_below_poverty_line']]\n",
    "country_stat = country_stat.dropna(subset=['population_below_poverty_line'])\n",
    "print(\"--- %s seconds ---\" % (tm.time()-start_time)) \n",
    "country_stat"
   ]
  },
  {
   "cell_type": "code",
   "execution_count": 7,
   "metadata": {},
   "outputs": [
    {
     "ename": "NameError",
     "evalue": "name 'loan_and_lent' is not defined",
     "output_type": "error",
     "traceback": [
      "\u001b[1;31m---------------------------------------------------------------------------\u001b[0m",
      "\u001b[1;31mNameError\u001b[0m                                 Traceback (most recent call last)",
      "\u001b[1;32m<ipython-input-7-d1d515df4378>\u001b[0m in \u001b[0;36m<module>\u001b[1;34m\u001b[0m\n\u001b[1;32m----> 1\u001b[1;33m country_stat_loan_and_lent = pd.merge(left=country_stat, right=loan_and_lent, \\\n\u001b[0m\u001b[0;32m      2\u001b[0m                                       left_on='country_code', right_on='country_code')\n\u001b[0;32m      3\u001b[0m country_stat_loan_and_lent = country_stat_loan_and_lent[['country_code', 'country_name', 'difference', \\\n\u001b[0;32m      4\u001b[0m                                                          'population', 'population_below_poverty_line']]\n\u001b[0;32m      5\u001b[0m \u001b[0mcountry_stat_loan_and_lent\u001b[0m\u001b[1;33m[\u001b[0m\u001b[1;34m'ratio_1'\u001b[0m\u001b[1;33m]\u001b[0m \u001b[1;33m=\u001b[0m \u001b[0mcountry_stat_loan_and_lent\u001b[0m\u001b[1;33m.\u001b[0m\u001b[0mdifference\u001b[0m\u001b[1;33m/\u001b[0m\u001b[0mcountry_stat_loan_and_lent\u001b[0m\u001b[1;33m.\u001b[0m\u001b[0mpopulation\u001b[0m\u001b[1;33m\u001b[0m\u001b[1;33m\u001b[0m\u001b[0m\n",
      "\u001b[1;31mNameError\u001b[0m: name 'loan_and_lent' is not defined"
     ]
    }
   ],
   "source": [
    "country_stat_loan_and_lent = pd.merge(left=country_stat, right=loan_and_lent, \\\n",
    "                                      left_on='country_code', right_on='country_code')\n",
    "country_stat_loan_and_lent = country_stat_loan_and_lent[['country_code', 'country_name', 'difference', \\\n",
    "                                                         'population', 'population_below_poverty_line']]\n",
    "country_stat_loan_and_lent['ratio_1'] = country_stat_loan_and_lent.difference/country_stat_loan_and_lent.population\n",
    "print(\"--- %s seconds ---\" % (tm.time()-start_time)) \n",
    "country_stat_loan_and_lent[country_stat_loan_and_lent.ratio_1 == country_stat_loan_and_lent.ratio_1.max()]"
   ]
  },
  {
   "cell_type": "code",
   "execution_count": null,
   "metadata": {},
   "outputs": [],
   "source": []
  }
 ],
 "metadata": {
  "kernelspec": {
   "display_name": "Python 3",
   "language": "python",
   "name": "python3"
  },
  "language_info": {
   "codemirror_mode": {
    "name": "ipython",
    "version": 3
   },
   "file_extension": ".py",
   "mimetype": "text/x-python",
   "name": "python",
   "nbconvert_exporter": "python",
   "pygments_lexer": "ipython3",
   "version": "3.7.4"
  }
 },
 "nbformat": 4,
 "nbformat_minor": 2
}
