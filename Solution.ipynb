{
 "cells": [
  {
   "cell_type": "markdown",
   "metadata": {},
   "source": [
    "# FoCS Project - Solution\n",
    "\n",
    "You have to work on the [Kiva](https://drive.google.com/file/d/1-tJtnIbo1Rt-F1XfoWGVkmBXiI-ciuRx/view) dataset. Some information on the datasets are on the [Kaggle](https://www.kaggle.com/) web page."
   ]
  },
  {
   "cell_type": "markdown",
   "metadata": {},
   "source": [
    "## Task 1\n",
    "\n",
    "1. Normalize the `loan_lenders` table. In the normalized table, each row must have one `loan_id` and one lender.\n"
   ]
  },
  {
   "cell_type": "markdown",
   "metadata": {},
   "source": [
    "The first step is to read the `loan_lenders.csv` file and create a dataframe with unnormalized data. Since the file is very large, I introduced a bollean variable `FINAL` - if it is false then only part of data is processed in order to spead up the work. Libraries `panda` and `numpy` will be used for data processing while the efficiency will be measured using the `time` library."
   ]
  },
  {
   "cell_type": "code",
   "execution_count": 4,
   "metadata": {},
   "outputs": [
    {
     "name": "stdout",
     "output_type": "stream",
     "text": [
      "--- 14.587375402450562 seconds ---\n"
     ]
    },
    {
     "data": {
      "text/html": [
       "<div>\n",
       "<style scoped>\n",
       "    .dataframe tbody tr th:only-of-type {\n",
       "        vertical-align: middle;\n",
       "    }\n",
       "\n",
       "    .dataframe tbody tr th {\n",
       "        vertical-align: top;\n",
       "    }\n",
       "\n",
       "    .dataframe thead th {\n",
       "        text-align: right;\n",
       "    }\n",
       "</style>\n",
       "<table border=\"1\" class=\"dataframe\">\n",
       "  <thead>\n",
       "    <tr style=\"text-align: right;\">\n",
       "      <th></th>\n",
       "      <th>loan_id</th>\n",
       "      <th>lenders</th>\n",
       "    </tr>\n",
       "  </thead>\n",
       "  <tbody>\n",
       "    <tr>\n",
       "      <td>0</td>\n",
       "      <td>483693</td>\n",
       "      <td>muc888, sam4326, camaran3922, lachheb1865, reb...</td>\n",
       "    </tr>\n",
       "    <tr>\n",
       "      <td>1</td>\n",
       "      <td>483738</td>\n",
       "      <td>muc888, nora3555, williammanashi, barbara5610,...</td>\n",
       "    </tr>\n",
       "    <tr>\n",
       "      <td>2</td>\n",
       "      <td>485000</td>\n",
       "      <td>muc888, terrystl, richardandsusan8352, sherri4...</td>\n",
       "    </tr>\n",
       "    <tr>\n",
       "      <td>3</td>\n",
       "      <td>486087</td>\n",
       "      <td>muc888, james5068, rudi5955, daniel9859, don92...</td>\n",
       "    </tr>\n",
       "    <tr>\n",
       "      <td>4</td>\n",
       "      <td>534428</td>\n",
       "      <td>muc888, niki3008, teresa9174, mike4896, david7...</td>\n",
       "    </tr>\n",
       "    <tr>\n",
       "      <td>...</td>\n",
       "      <td>...</td>\n",
       "      <td>...</td>\n",
       "    </tr>\n",
       "    <tr>\n",
       "      <td>9995</td>\n",
       "      <td>45940</td>\n",
       "      <td>helga4707, james6963, jimjams, andreas2382, si...</td>\n",
       "    </tr>\n",
       "    <tr>\n",
       "      <td>9996</td>\n",
       "      <td>247491</td>\n",
       "      <td>priyaram, christian9832, john9242, sandra1434,...</td>\n",
       "    </tr>\n",
       "    <tr>\n",
       "      <td>9997</td>\n",
       "      <td>345274</td>\n",
       "      <td>priyaram, nicola1093, bobby9744, simon7848, di...</td>\n",
       "    </tr>\n",
       "    <tr>\n",
       "      <td>9998</td>\n",
       "      <td>125945</td>\n",
       "      <td>joseph1859, matt5349, reese3555, stanley3312, ...</td>\n",
       "    </tr>\n",
       "    <tr>\n",
       "      <td>9999</td>\n",
       "      <td>225434</td>\n",
       "      <td>michael25572458, tom8330, garyk, manas8925, ma...</td>\n",
       "    </tr>\n",
       "  </tbody>\n",
       "</table>\n",
       "<p>10000 rows × 2 columns</p>\n",
       "</div>"
      ],
      "text/plain": [
       "      loan_id                                            lenders\n",
       "0      483693  muc888, sam4326, camaran3922, lachheb1865, reb...\n",
       "1      483738  muc888, nora3555, williammanashi, barbara5610,...\n",
       "2      485000  muc888, terrystl, richardandsusan8352, sherri4...\n",
       "3      486087  muc888, james5068, rudi5955, daniel9859, don92...\n",
       "4      534428  muc888, niki3008, teresa9174, mike4896, david7...\n",
       "...       ...                                                ...\n",
       "9995    45940  helga4707, james6963, jimjams, andreas2382, si...\n",
       "9996   247491  priyaram, christian9832, john9242, sandra1434,...\n",
       "9997   345274  priyaram, nicola1093, bobby9744, simon7848, di...\n",
       "9998   125945  joseph1859, matt5349, reese3555, stanley3312, ...\n",
       "9999   225434  michael25572458, tom8330, garyk, manas8925, ma...\n",
       "\n",
       "[10000 rows x 2 columns]"
      ]
     },
     "execution_count": 4,
     "metadata": {},
     "output_type": "execute_result"
    }
   ],
   "source": [
    "import pandas as pd\n",
    "import numpy as np\n",
    "import time as tm\n",
    "FINAL = False # This is final calculation, on complete data\n",
    "start_time = tm.time()\n",
    "loans_lenders_un = pd.read_csv('./data/loans_lenders.csv')\n",
    "if not FINAL:\n",
    "    loans_lenders_un = loans_lenders_un.head(10000) \n",
    "print(\"--- %s seconds ---\" % (tm.time()-start_time)) \n",
    "loans_lenders_un"
   ]
  },
  {
   "cell_type": "code",
   "execution_count": null,
   "metadata": {},
   "outputs": [],
   "source": [
    "loans_lenders_normalized = "
   ]
  }
 ],
 "metadata": {
  "kernelspec": {
   "display_name": "Python 3",
   "language": "python",
   "name": "python3"
  },
  "language_info": {
   "codemirror_mode": {
    "name": "ipython",
    "version": 3
   },
   "file_extension": ".py",
   "mimetype": "text/x-python",
   "name": "python",
   "nbconvert_exporter": "python",
   "pygments_lexer": "ipython3",
   "version": "3.7.4"
  }
 },
 "nbformat": 4,
 "nbformat_minor": 2
}
