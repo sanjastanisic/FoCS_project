{
 "cells": [
  {
   "cell_type": "markdown",
   "metadata": {},
   "source": [
    "# FoCS Project - Solution\n",
    "\n",
    "You have to work on the [Kiva](https://drive.google.com/file/d/1-tJtnIbo1Rt-F1XfoWGVkmBXiI-ciuRx/view) dataset. Some information on the datasets are on the [Kaggle](https://www.kaggle.com/) web page."
   ]
  },
  {
   "cell_type": "markdown",
   "metadata": {},
   "source": [
    "## Task 1\n",
    "\n",
    "*Normalize the `loan_lenders` table. In the normalized table, each row must have one `loan_id` and one lender.*\n"
   ]
  },
  {
   "cell_type": "markdown",
   "metadata": {},
   "source": [
    "The first step is to read the `loan_lenders.csv` file and create a dataframe with unnormalized data. Since the file is very large, I introduced a bollean variable `FINAL` - if it is `false` then only a part of data is processed in order to spead up the work. Libraries `panda` and `numpy` will be used for data processing while the efficiency will be measured using the `time` library."
   ]
  },
  {
   "cell_type": "code",
   "execution_count": 133,
   "metadata": {},
   "outputs": [
    {
     "name": "stdout",
     "output_type": "stream",
     "text": [
      "--- 5.722573757171631 seconds ---\n"
     ]
    },
    {
     "data": {
      "text/html": [
       "<div>\n",
       "<style scoped>\n",
       "    .dataframe tbody tr th:only-of-type {\n",
       "        vertical-align: middle;\n",
       "    }\n",
       "\n",
       "    .dataframe tbody tr th {\n",
       "        vertical-align: top;\n",
       "    }\n",
       "\n",
       "    .dataframe thead th {\n",
       "        text-align: right;\n",
       "    }\n",
       "</style>\n",
       "<table border=\"1\" class=\"dataframe\">\n",
       "  <thead>\n",
       "    <tr style=\"text-align: right;\">\n",
       "      <th></th>\n",
       "      <th>loan_id</th>\n",
       "      <th>lenders</th>\n",
       "    </tr>\n",
       "  </thead>\n",
       "  <tbody>\n",
       "    <tr>\n",
       "      <td>0</td>\n",
       "      <td>483693</td>\n",
       "      <td>muc888, sam4326, camaran3922, lachheb1865, reb...</td>\n",
       "    </tr>\n",
       "    <tr>\n",
       "      <td>1</td>\n",
       "      <td>483738</td>\n",
       "      <td>muc888, nora3555, williammanashi, barbara5610,...</td>\n",
       "    </tr>\n",
       "    <tr>\n",
       "      <td>2</td>\n",
       "      <td>485000</td>\n",
       "      <td>muc888, terrystl, richardandsusan8352, sherri4...</td>\n",
       "    </tr>\n",
       "    <tr>\n",
       "      <td>3</td>\n",
       "      <td>486087</td>\n",
       "      <td>muc888, james5068, rudi5955, daniel9859, don92...</td>\n",
       "    </tr>\n",
       "    <tr>\n",
       "      <td>4</td>\n",
       "      <td>534428</td>\n",
       "      <td>muc888, niki3008, teresa9174, mike4896, david7...</td>\n",
       "    </tr>\n",
       "    <tr>\n",
       "      <td>...</td>\n",
       "      <td>...</td>\n",
       "      <td>...</td>\n",
       "    </tr>\n",
       "    <tr>\n",
       "      <td>1387427</td>\n",
       "      <td>678999</td>\n",
       "      <td>michael43411218, carol5987, gooddogg1, chris41...</td>\n",
       "    </tr>\n",
       "    <tr>\n",
       "      <td>1387428</td>\n",
       "      <td>1207353</td>\n",
       "      <td>rjhoward1986, jeffrey6870, trolltech4460, elys...</td>\n",
       "    </tr>\n",
       "    <tr>\n",
       "      <td>1387429</td>\n",
       "      <td>1206220</td>\n",
       "      <td>vicky7746, gooddogg1, fairspirit, craig9729960...</td>\n",
       "    </tr>\n",
       "    <tr>\n",
       "      <td>1387430</td>\n",
       "      <td>1206425</td>\n",
       "      <td>rich6705, sergiiy9766, angela7509, barbara5610...</td>\n",
       "    </tr>\n",
       "    <tr>\n",
       "      <td>1387431</td>\n",
       "      <td>1206486</td>\n",
       "      <td>alan5175, amy38101311</td>\n",
       "    </tr>\n",
       "  </tbody>\n",
       "</table>\n",
       "<p>1387432 rows × 2 columns</p>\n",
       "</div>"
      ],
      "text/plain": [
       "         loan_id                                            lenders\n",
       "0         483693  muc888, sam4326, camaran3922, lachheb1865, reb...\n",
       "1         483738  muc888, nora3555, williammanashi, barbara5610,...\n",
       "2         485000  muc888, terrystl, richardandsusan8352, sherri4...\n",
       "3         486087  muc888, james5068, rudi5955, daniel9859, don92...\n",
       "4         534428  muc888, niki3008, teresa9174, mike4896, david7...\n",
       "...          ...                                                ...\n",
       "1387427   678999  michael43411218, carol5987, gooddogg1, chris41...\n",
       "1387428  1207353  rjhoward1986, jeffrey6870, trolltech4460, elys...\n",
       "1387429  1206220  vicky7746, gooddogg1, fairspirit, craig9729960...\n",
       "1387430  1206425  rich6705, sergiiy9766, angela7509, barbara5610...\n",
       "1387431  1206486                              alan5175, amy38101311\n",
       "\n",
       "[1387432 rows x 2 columns]"
      ]
     },
     "execution_count": 133,
     "metadata": {},
     "output_type": "execute_result"
    }
   ],
   "source": [
    "import pandas as pd\n",
    "import numpy as np\n",
    "import time as tm\n",
    "FINAL = True\n",
    "start_time = tm.time()\n",
    "loans_lenders_un = pd.read_csv('./data/loans_lenders.csv')\n",
    "if not FINAL:\n",
    "    loans_lenders_un = loans_lenders_un.head(10000) \n",
    "print(\"--- %s seconds ---\" % (tm.time()-start_time)) \n",
    "loans_lenders_un"
   ]
  },
  {
   "cell_type": "code",
   "execution_count": 134,
   "metadata": {},
   "outputs": [
    {
     "name": "stdout",
     "output_type": "stream",
     "text": [
      "--- 6607.557300567627 seconds ---\n"
     ]
    },
    {
     "data": {
      "text/html": [
       "<div>\n",
       "<style scoped>\n",
       "    .dataframe tbody tr th:only-of-type {\n",
       "        vertical-align: middle;\n",
       "    }\n",
       "\n",
       "    .dataframe tbody tr th {\n",
       "        vertical-align: top;\n",
       "    }\n",
       "\n",
       "    .dataframe thead th {\n",
       "        text-align: right;\n",
       "    }\n",
       "</style>\n",
       "<table border=\"1\" class=\"dataframe\">\n",
       "  <thead>\n",
       "    <tr style=\"text-align: right;\">\n",
       "      <th></th>\n",
       "      <th>loan_id</th>\n",
       "      <th>lender</th>\n",
       "    </tr>\n",
       "  </thead>\n",
       "  <tbody>\n",
       "    <tr>\n",
       "      <td>0</td>\n",
       "      <td>483693</td>\n",
       "      <td>muc888</td>\n",
       "    </tr>\n",
       "    <tr>\n",
       "      <td>1</td>\n",
       "      <td>483693</td>\n",
       "      <td>sam4326</td>\n",
       "    </tr>\n",
       "    <tr>\n",
       "      <td>2</td>\n",
       "      <td>483693</td>\n",
       "      <td>camaran3922</td>\n",
       "    </tr>\n",
       "    <tr>\n",
       "      <td>3</td>\n",
       "      <td>483693</td>\n",
       "      <td>lachheb1865</td>\n",
       "    </tr>\n",
       "    <tr>\n",
       "      <td>4</td>\n",
       "      <td>483693</td>\n",
       "      <td>rebecca3499</td>\n",
       "    </tr>\n",
       "    <tr>\n",
       "      <td>...</td>\n",
       "      <td>...</td>\n",
       "      <td>...</td>\n",
       "    </tr>\n",
       "    <tr>\n",
       "      <td>28293926</td>\n",
       "      <td>1206425</td>\n",
       "      <td>trogdorfamily7622</td>\n",
       "    </tr>\n",
       "    <tr>\n",
       "      <td>28293927</td>\n",
       "      <td>1206425</td>\n",
       "      <td>danny6470</td>\n",
       "    </tr>\n",
       "    <tr>\n",
       "      <td>28293928</td>\n",
       "      <td>1206425</td>\n",
       "      <td>don6118</td>\n",
       "    </tr>\n",
       "    <tr>\n",
       "      <td>28293929</td>\n",
       "      <td>1206486</td>\n",
       "      <td>alan5175</td>\n",
       "    </tr>\n",
       "    <tr>\n",
       "      <td>28293930</td>\n",
       "      <td>1206486</td>\n",
       "      <td>amy38101311</td>\n",
       "    </tr>\n",
       "  </tbody>\n",
       "</table>\n",
       "<p>28293931 rows × 2 columns</p>\n",
       "</div>"
      ],
      "text/plain": [
       "          loan_id             lender\n",
       "0          483693             muc888\n",
       "1          483693            sam4326\n",
       "2          483693        camaran3922\n",
       "3          483693        lachheb1865\n",
       "4          483693        rebecca3499\n",
       "...           ...                ...\n",
       "28293926  1206425  trogdorfamily7622\n",
       "28293927  1206425          danny6470\n",
       "28293928  1206425            don6118\n",
       "28293929  1206486           alan5175\n",
       "28293930  1206486        amy38101311\n",
       "\n",
       "[28293931 rows x 2 columns]"
      ]
     },
     "execution_count": 134,
     "metadata": {},
     "output_type": "execute_result"
    }
   ],
   "source": [
    "start_time = tm.time()\n",
    "pairs_loan_lander = []\n",
    "for index, row in loans_lenders_un.iterrows(): \n",
    "    lenders = row['lenders'].split(',')\n",
    "    for l in lenders:\n",
    "        pairs_loan_lander.append({ 'loan_id' : row['loan_id'], 'lender': l.strip() })\n",
    "loans_lenders = pd.DataFrame(pairs_loan_lander) \n",
    "print(\"--- %s seconds ---\" % (tm.time()-start_time)) \n",
    "loans_lenders "
   ]
  },
  {
   "cell_type": "markdown",
   "metadata": {},
   "source": [
    "## Task 2\n",
    "\n",
    "*For each loan, add a column `duration` corresponding to the number of days between the disburse time and the planned expiration time. If any of those two dates is missing, also the duration must be missing.*\n",
    "\n",
    "Firstly, I'll read the `loans.csv` file.\n"
   ]
  },
  {
   "cell_type": "code",
   "execution_count": 135,
   "metadata": {
    "scrolled": true
   },
   "outputs": [
    {
     "name": "stdout",
     "output_type": "stream",
     "text": [
      "--- 1612.4024803638458 seconds ---\n"
     ]
    },
    {
     "data": {
      "text/html": [
       "<div>\n",
       "<style scoped>\n",
       "    .dataframe tbody tr th:only-of-type {\n",
       "        vertical-align: middle;\n",
       "    }\n",
       "\n",
       "    .dataframe tbody tr th {\n",
       "        vertical-align: top;\n",
       "    }\n",
       "\n",
       "    .dataframe thead th {\n",
       "        text-align: right;\n",
       "    }\n",
       "</style>\n",
       "<table border=\"1\" class=\"dataframe\">\n",
       "  <thead>\n",
       "    <tr style=\"text-align: right;\">\n",
       "      <th></th>\n",
       "      <th>loan_id</th>\n",
       "      <th>loan_name</th>\n",
       "      <th>original_language</th>\n",
       "      <th>description</th>\n",
       "      <th>description_translated</th>\n",
       "      <th>funded_amount</th>\n",
       "      <th>loan_amount</th>\n",
       "      <th>status</th>\n",
       "      <th>activity_name</th>\n",
       "      <th>sector_name</th>\n",
       "      <th>...</th>\n",
       "      <th>raised_time</th>\n",
       "      <th>lender_term</th>\n",
       "      <th>num_lenders_total</th>\n",
       "      <th>num_journal_entries</th>\n",
       "      <th>num_bulk_entries</th>\n",
       "      <th>tags</th>\n",
       "      <th>borrower_genders</th>\n",
       "      <th>borrower_pictured</th>\n",
       "      <th>repayment_interval</th>\n",
       "      <th>distribution_model</th>\n",
       "    </tr>\n",
       "  </thead>\n",
       "  <tbody>\n",
       "    <tr>\n",
       "      <td>0</td>\n",
       "      <td>657307</td>\n",
       "      <td>Aivy</td>\n",
       "      <td>English</td>\n",
       "      <td>Aivy, 21 years of age, is single and lives in ...</td>\n",
       "      <td>NaN</td>\n",
       "      <td>125.0</td>\n",
       "      <td>125.0</td>\n",
       "      <td>funded</td>\n",
       "      <td>General Store</td>\n",
       "      <td>Retail</td>\n",
       "      <td>...</td>\n",
       "      <td>2014-01-15 04:48:22.000 +0000</td>\n",
       "      <td>7.0</td>\n",
       "      <td>3</td>\n",
       "      <td>2</td>\n",
       "      <td>1</td>\n",
       "      <td>NaN</td>\n",
       "      <td>female</td>\n",
       "      <td>true</td>\n",
       "      <td>irregular</td>\n",
       "      <td>field_partner</td>\n",
       "    </tr>\n",
       "    <tr>\n",
       "      <td>1</td>\n",
       "      <td>657259</td>\n",
       "      <td>Idalia Marizza</td>\n",
       "      <td>Spanish</td>\n",
       "      <td>Doña Idalia, esta casada, tiene 57 años de eda...</td>\n",
       "      <td>Idalia, 57, is married and lives with her husb...</td>\n",
       "      <td>400.0</td>\n",
       "      <td>400.0</td>\n",
       "      <td>funded</td>\n",
       "      <td>Used Clothing</td>\n",
       "      <td>Clothing</td>\n",
       "      <td>...</td>\n",
       "      <td>2014-02-25 06:42:06.000 +0000</td>\n",
       "      <td>8.0</td>\n",
       "      <td>11</td>\n",
       "      <td>2</td>\n",
       "      <td>1</td>\n",
       "      <td>NaN</td>\n",
       "      <td>female</td>\n",
       "      <td>true</td>\n",
       "      <td>monthly</td>\n",
       "      <td>field_partner</td>\n",
       "    </tr>\n",
       "    <tr>\n",
       "      <td>2</td>\n",
       "      <td>658010</td>\n",
       "      <td>Aasia</td>\n",
       "      <td>English</td>\n",
       "      <td>Aasia is a 45-year-old married lady and she ha...</td>\n",
       "      <td>NaN</td>\n",
       "      <td>400.0</td>\n",
       "      <td>400.0</td>\n",
       "      <td>funded</td>\n",
       "      <td>General Store</td>\n",
       "      <td>Retail</td>\n",
       "      <td>...</td>\n",
       "      <td>2014-01-24 23:06:18.000 +0000</td>\n",
       "      <td>14.0</td>\n",
       "      <td>16</td>\n",
       "      <td>2</td>\n",
       "      <td>1</td>\n",
       "      <td>#Woman Owned Biz, #Supporting Family, user_fav...</td>\n",
       "      <td>female</td>\n",
       "      <td>true</td>\n",
       "      <td>monthly</td>\n",
       "      <td>field_partner</td>\n",
       "    </tr>\n",
       "    <tr>\n",
       "      <td>3</td>\n",
       "      <td>659347</td>\n",
       "      <td>Gulmira</td>\n",
       "      <td>Russian</td>\n",
       "      <td>Гулмире 36 лет, замужем, вместе с супругом вос...</td>\n",
       "      <td>Gulmira is 36 years old and married.  She and ...</td>\n",
       "      <td>625.0</td>\n",
       "      <td>625.0</td>\n",
       "      <td>funded</td>\n",
       "      <td>Farming</td>\n",
       "      <td>Agriculture</td>\n",
       "      <td>...</td>\n",
       "      <td>2014-01-22 05:29:28.000 +0000</td>\n",
       "      <td>14.0</td>\n",
       "      <td>21</td>\n",
       "      <td>2</td>\n",
       "      <td>1</td>\n",
       "      <td>user_favorite</td>\n",
       "      <td>female</td>\n",
       "      <td>true</td>\n",
       "      <td>monthly</td>\n",
       "      <td>field_partner</td>\n",
       "    </tr>\n",
       "    <tr>\n",
       "      <td>4</td>\n",
       "      <td>656933</td>\n",
       "      <td>Ricky\\t</td>\n",
       "      <td>English</td>\n",
       "      <td>Ricky is a farmer who currently cultivates his...</td>\n",
       "      <td>NaN</td>\n",
       "      <td>425.0</td>\n",
       "      <td>425.0</td>\n",
       "      <td>funded</td>\n",
       "      <td>Farming</td>\n",
       "      <td>Agriculture</td>\n",
       "      <td>...</td>\n",
       "      <td>2014-01-14 17:29:27.000 +0000</td>\n",
       "      <td>7.0</td>\n",
       "      <td>15</td>\n",
       "      <td>2</td>\n",
       "      <td>1</td>\n",
       "      <td>#Animals, #Eco-friendly, #Sustainable Ag</td>\n",
       "      <td>male</td>\n",
       "      <td>true</td>\n",
       "      <td>bullet</td>\n",
       "      <td>field_partner</td>\n",
       "    </tr>\n",
       "    <tr>\n",
       "      <td>...</td>\n",
       "      <td>...</td>\n",
       "      <td>...</td>\n",
       "      <td>...</td>\n",
       "      <td>...</td>\n",
       "      <td>...</td>\n",
       "      <td>...</td>\n",
       "      <td>...</td>\n",
       "      <td>...</td>\n",
       "      <td>...</td>\n",
       "      <td>...</td>\n",
       "      <td>...</td>\n",
       "      <td>...</td>\n",
       "      <td>...</td>\n",
       "      <td>...</td>\n",
       "      <td>...</td>\n",
       "      <td>...</td>\n",
       "      <td>...</td>\n",
       "      <td>...</td>\n",
       "      <td>...</td>\n",
       "      <td>...</td>\n",
       "      <td>...</td>\n",
       "    </tr>\n",
       "    <tr>\n",
       "      <td>1419602</td>\n",
       "      <td>988180</td>\n",
       "      <td>NaN</td>\n",
       "      <td>NaN</td>\n",
       "      <td>NaN</td>\n",
       "      <td>NaN</td>\n",
       "      <td>400.0</td>\n",
       "      <td>400.0</td>\n",
       "      <td>funded</td>\n",
       "      <td>Tailoring</td>\n",
       "      <td>Services</td>\n",
       "      <td>...</td>\n",
       "      <td>2015-12-28 15:44:18.000 +0000</td>\n",
       "      <td>14.0</td>\n",
       "      <td>16</td>\n",
       "      <td>4</td>\n",
       "      <td>2</td>\n",
       "      <td>#Parent, #Repeat Borrower, #Woman Owned Biz</td>\n",
       "      <td>NaN</td>\n",
       "      <td>NaN</td>\n",
       "      <td>monthly</td>\n",
       "      <td>field_partner</td>\n",
       "    </tr>\n",
       "    <tr>\n",
       "      <td>1419603</td>\n",
       "      <td>988213</td>\n",
       "      <td>Perlita</td>\n",
       "      <td>English</td>\n",
       "      <td>Perlita is 52 years old, married and has three...</td>\n",
       "      <td>Perlita is 52 years old, married and has three...</td>\n",
       "      <td>300.0</td>\n",
       "      <td>300.0</td>\n",
       "      <td>funded</td>\n",
       "      <td>Pigs</td>\n",
       "      <td>Agriculture</td>\n",
       "      <td>...</td>\n",
       "      <td>2015-12-22 10:37:06.000 +0000</td>\n",
       "      <td>14.0</td>\n",
       "      <td>12</td>\n",
       "      <td>1</td>\n",
       "      <td>1</td>\n",
       "      <td>#Animals, #Elderly, #Repeat Borrower, #Woman O...</td>\n",
       "      <td>female</td>\n",
       "      <td>true</td>\n",
       "      <td>irregular</td>\n",
       "      <td>field_partner</td>\n",
       "    </tr>\n",
       "    <tr>\n",
       "      <td>1419604</td>\n",
       "      <td>989109</td>\n",
       "      <td>Okyeso Nyame Group</td>\n",
       "      <td>English</td>\n",
       "      <td>Okyeso Nyame group will begin its third cycle ...</td>\n",
       "      <td>Okyeso Nyame group will begin its third cycle ...</td>\n",
       "      <td>2425.0</td>\n",
       "      <td>2425.0</td>\n",
       "      <td>funded</td>\n",
       "      <td>Bakery</td>\n",
       "      <td>Food</td>\n",
       "      <td>...</td>\n",
       "      <td>2015-12-26 20:24:47.000 +0000</td>\n",
       "      <td>8.0</td>\n",
       "      <td>76</td>\n",
       "      <td>2</td>\n",
       "      <td>1</td>\n",
       "      <td>user_favorite, #Parent, #Vegan, #Woman Owned B...</td>\n",
       "      <td>female, female, female, male, male, female</td>\n",
       "      <td>true, true, true, true, true, true</td>\n",
       "      <td>irregular</td>\n",
       "      <td>field_partner</td>\n",
       "    </tr>\n",
       "    <tr>\n",
       "      <td>1419605</td>\n",
       "      <td>989143</td>\n",
       "      <td>Exequila</td>\n",
       "      <td>English</td>\n",
       "      <td>Exequila  is from San Miguel, Bohol. She is in...</td>\n",
       "      <td>Exequila  is from San Miguel, Bohol. She is in...</td>\n",
       "      <td>100.0</td>\n",
       "      <td>100.0</td>\n",
       "      <td>funded</td>\n",
       "      <td>Farming</td>\n",
       "      <td>Agriculture</td>\n",
       "      <td>...</td>\n",
       "      <td>2015-12-06 21:03:57.000 +0000</td>\n",
       "      <td>12.0</td>\n",
       "      <td>3</td>\n",
       "      <td>1</td>\n",
       "      <td>1</td>\n",
       "      <td>NaN</td>\n",
       "      <td>female</td>\n",
       "      <td>true</td>\n",
       "      <td>irregular</td>\n",
       "      <td>field_partner</td>\n",
       "    </tr>\n",
       "    <tr>\n",
       "      <td>1419606</td>\n",
       "      <td>989240</td>\n",
       "      <td>Lydia</td>\n",
       "      <td>French</td>\n",
       "      <td>Lydia a 37ans et habite dans une zone rurale. ...</td>\n",
       "      <td>Lydia is 37 years old and lives in a rural are...</td>\n",
       "      <td>175.0</td>\n",
       "      <td>175.0</td>\n",
       "      <td>funded</td>\n",
       "      <td>Sewing</td>\n",
       "      <td>Services</td>\n",
       "      <td>...</td>\n",
       "      <td>2015-12-04 23:17:04.000 +0000</td>\n",
       "      <td>14.0</td>\n",
       "      <td>7</td>\n",
       "      <td>1</td>\n",
       "      <td>1</td>\n",
       "      <td>NaN</td>\n",
       "      <td>female</td>\n",
       "      <td>true</td>\n",
       "      <td>monthly</td>\n",
       "      <td>field_partner</td>\n",
       "    </tr>\n",
       "  </tbody>\n",
       "</table>\n",
       "<p>1419607 rows × 31 columns</p>\n",
       "</div>"
      ],
      "text/plain": [
       "         loan_id           loan_name original_language  \\\n",
       "0         657307                Aivy           English   \n",
       "1         657259      Idalia Marizza           Spanish   \n",
       "2         658010               Aasia           English   \n",
       "3         659347             Gulmira           Russian   \n",
       "4         656933             Ricky\\t           English   \n",
       "...          ...                 ...               ...   \n",
       "1419602   988180                 NaN               NaN   \n",
       "1419603   988213             Perlita           English   \n",
       "1419604   989109  Okyeso Nyame Group           English   \n",
       "1419605   989143            Exequila           English   \n",
       "1419606   989240               Lydia            French   \n",
       "\n",
       "                                               description  \\\n",
       "0        Aivy, 21 years of age, is single and lives in ...   \n",
       "1        Doña Idalia, esta casada, tiene 57 años de eda...   \n",
       "2        Aasia is a 45-year-old married lady and she ha...   \n",
       "3        Гулмире 36 лет, замужем, вместе с супругом вос...   \n",
       "4        Ricky is a farmer who currently cultivates his...   \n",
       "...                                                    ...   \n",
       "1419602                                                NaN   \n",
       "1419603  Perlita is 52 years old, married and has three...   \n",
       "1419604  Okyeso Nyame group will begin its third cycle ...   \n",
       "1419605  Exequila  is from San Miguel, Bohol. She is in...   \n",
       "1419606  Lydia a 37ans et habite dans une zone rurale. ...   \n",
       "\n",
       "                                    description_translated  funded_amount  \\\n",
       "0                                                      NaN          125.0   \n",
       "1        Idalia, 57, is married and lives with her husb...          400.0   \n",
       "2                                                      NaN          400.0   \n",
       "3        Gulmira is 36 years old and married.  She and ...          625.0   \n",
       "4                                                      NaN          425.0   \n",
       "...                                                    ...            ...   \n",
       "1419602                                                NaN          400.0   \n",
       "1419603  Perlita is 52 years old, married and has three...          300.0   \n",
       "1419604  Okyeso Nyame group will begin its third cycle ...         2425.0   \n",
       "1419605  Exequila  is from San Miguel, Bohol. She is in...          100.0   \n",
       "1419606  Lydia is 37 years old and lives in a rural are...          175.0   \n",
       "\n",
       "         loan_amount  status  activity_name  sector_name  ...  \\\n",
       "0              125.0  funded  General Store       Retail  ...   \n",
       "1              400.0  funded  Used Clothing     Clothing  ...   \n",
       "2              400.0  funded  General Store       Retail  ...   \n",
       "3              625.0  funded        Farming  Agriculture  ...   \n",
       "4              425.0  funded        Farming  Agriculture  ...   \n",
       "...              ...     ...            ...          ...  ...   \n",
       "1419602        400.0  funded      Tailoring     Services  ...   \n",
       "1419603        300.0  funded           Pigs  Agriculture  ...   \n",
       "1419604       2425.0  funded         Bakery         Food  ...   \n",
       "1419605        100.0  funded        Farming  Agriculture  ...   \n",
       "1419606        175.0  funded         Sewing     Services  ...   \n",
       "\n",
       "                           raised_time lender_term num_lenders_total  \\\n",
       "0        2014-01-15 04:48:22.000 +0000         7.0                 3   \n",
       "1        2014-02-25 06:42:06.000 +0000         8.0                11   \n",
       "2        2014-01-24 23:06:18.000 +0000        14.0                16   \n",
       "3        2014-01-22 05:29:28.000 +0000        14.0                21   \n",
       "4        2014-01-14 17:29:27.000 +0000         7.0                15   \n",
       "...                                ...         ...               ...   \n",
       "1419602  2015-12-28 15:44:18.000 +0000        14.0                16   \n",
       "1419603  2015-12-22 10:37:06.000 +0000        14.0                12   \n",
       "1419604  2015-12-26 20:24:47.000 +0000         8.0                76   \n",
       "1419605  2015-12-06 21:03:57.000 +0000        12.0                 3   \n",
       "1419606  2015-12-04 23:17:04.000 +0000        14.0                 7   \n",
       "\n",
       "        num_journal_entries num_bulk_entries  \\\n",
       "0                         2                1   \n",
       "1                         2                1   \n",
       "2                         2                1   \n",
       "3                         2                1   \n",
       "4                         2                1   \n",
       "...                     ...              ...   \n",
       "1419602                   4                2   \n",
       "1419603                   1                1   \n",
       "1419604                   2                1   \n",
       "1419605                   1                1   \n",
       "1419606                   1                1   \n",
       "\n",
       "                                                      tags  \\\n",
       "0                                                      NaN   \n",
       "1                                                      NaN   \n",
       "2        #Woman Owned Biz, #Supporting Family, user_fav...   \n",
       "3                                            user_favorite   \n",
       "4                 #Animals, #Eco-friendly, #Sustainable Ag   \n",
       "...                                                    ...   \n",
       "1419602        #Parent, #Repeat Borrower, #Woman Owned Biz   \n",
       "1419603  #Animals, #Elderly, #Repeat Borrower, #Woman O...   \n",
       "1419604  user_favorite, #Parent, #Vegan, #Woman Owned B...   \n",
       "1419605                                                NaN   \n",
       "1419606                                                NaN   \n",
       "\n",
       "                                   borrower_genders  \\\n",
       "0                                            female   \n",
       "1                                            female   \n",
       "2                                            female   \n",
       "3                                            female   \n",
       "4                                              male   \n",
       "...                                             ...   \n",
       "1419602                                         NaN   \n",
       "1419603                                      female   \n",
       "1419604  female, female, female, male, male, female   \n",
       "1419605                                      female   \n",
       "1419606                                      female   \n",
       "\n",
       "                          borrower_pictured repayment_interval  \\\n",
       "0                                      true          irregular   \n",
       "1                                      true            monthly   \n",
       "2                                      true            monthly   \n",
       "3                                      true            monthly   \n",
       "4                                      true             bullet   \n",
       "...                                     ...                ...   \n",
       "1419602                                 NaN            monthly   \n",
       "1419603                                true          irregular   \n",
       "1419604  true, true, true, true, true, true          irregular   \n",
       "1419605                                true          irregular   \n",
       "1419606                                true            monthly   \n",
       "\n",
       "        distribution_model  \n",
       "0            field_partner  \n",
       "1            field_partner  \n",
       "2            field_partner  \n",
       "3            field_partner  \n",
       "4            field_partner  \n",
       "...                    ...  \n",
       "1419602      field_partner  \n",
       "1419603      field_partner  \n",
       "1419604      field_partner  \n",
       "1419605      field_partner  \n",
       "1419606      field_partner  \n",
       "\n",
       "[1419607 rows x 31 columns]"
      ]
     },
     "execution_count": 135,
     "metadata": {},
     "output_type": "execute_result"
    }
   ],
   "source": [
    "start_time = tm.time()\n",
    "loans = pd.read_csv('./data/loans.csv')\n",
    "if not FINAL:\n",
    "    loans = loans.head(20000)\n",
    "time = tm.time() -start_time\n",
    "print(\"--- %s seconds ---\" % time) \n",
    "loans"
   ]
  },
  {
   "cell_type": "markdown",
   "metadata": {},
   "source": [
    "In order to see the exact titles of the columns and their values I'll do as followes:"
   ]
  },
  {
   "cell_type": "code",
   "execution_count": 136,
   "metadata": {},
   "outputs": [
    {
     "data": {
      "text/plain": [
       "Index(['loan_id', 'loan_name', 'original_language', 'description',\n",
       "       'description_translated', 'funded_amount', 'loan_amount', 'status',\n",
       "       'activity_name', 'sector_name', 'loan_use', 'country_code',\n",
       "       'country_name', 'town_name', 'currency_policy',\n",
       "       'currency_exchange_coverage_rate', 'currency', 'partner_id',\n",
       "       'posted_time', 'planned_expiration_time', 'disburse_time',\n",
       "       'raised_time', 'lender_term', 'num_lenders_total',\n",
       "       'num_journal_entries', 'num_bulk_entries', 'tags', 'borrower_genders',\n",
       "       'borrower_pictured', 'repayment_interval', 'distribution_model'],\n",
       "      dtype='object')"
      ]
     },
     "execution_count": 136,
     "metadata": {},
     "output_type": "execute_result"
    }
   ],
   "source": [
    "loans.columns"
   ]
  },
  {
   "cell_type": "code",
   "execution_count": 137,
   "metadata": {},
   "outputs": [
    {
     "data": {
      "text/plain": [
       "0          2014-02-14 03:30:06.000 +0000\n",
       "1          2014-03-26 22:25:07.000 +0000\n",
       "2          2014-02-15 21:10:05.000 +0000\n",
       "3          2014-02-21 03:10:02.000 +0000\n",
       "4          2014-02-13 06:10:02.000 +0000\n",
       "                       ...              \n",
       "1419602    2016-01-02 01:00:03.000 +0000\n",
       "1419603    2016-01-02 16:40:07.000 +0000\n",
       "1419604    2016-01-03 22:20:04.000 +0000\n",
       "1419605    2016-01-05 08:50:02.000 +0000\n",
       "1419606    2016-01-03 20:50:06.000 +0000\n",
       "Name: planned_expiration_time, Length: 1419607, dtype: object"
      ]
     },
     "execution_count": 137,
     "metadata": {},
     "output_type": "execute_result"
    }
   ],
   "source": [
    "loans['planned_expiration_time']\n"
   ]
  },
  {
   "cell_type": "code",
   "execution_count": 138,
   "metadata": {},
   "outputs": [
    {
     "data": {
      "text/plain": [
       "0          2013-12-22 08:00:00.000 +0000\n",
       "1          2013-12-20 08:00:00.000 +0000\n",
       "2          2014-01-09 08:00:00.000 +0000\n",
       "3          2014-01-17 08:00:00.000 +0000\n",
       "4          2013-12-17 08:00:00.000 +0000\n",
       "                       ...              \n",
       "1419602    2015-11-23 08:00:00.000 +0000\n",
       "1419603    2015-11-24 08:00:00.000 +0000\n",
       "1419604    2015-11-13 08:00:00.000 +0000\n",
       "1419605    2015-11-03 08:00:00.000 +0000\n",
       "1419606    2015-11-03 08:00:00.000 +0000\n",
       "Name: disburse_time, Length: 1419607, dtype: object"
      ]
     },
     "execution_count": 138,
     "metadata": {},
     "output_type": "execute_result"
    }
   ],
   "source": [
    "loans['disburse_time']"
   ]
  },
  {
   "cell_type": "markdown",
   "metadata": {},
   "source": [
    "A `duration` coulmn is created and filled with `None`. \n",
    "I'm going now through every row of the dataframe `loans`, and pick the values of the `planned_expiration_time` and `disburse_time`. \n",
    "In order to check whether there are missing values I'm using the `pd.notna` method. \n",
    "Since in both columns the time is recorded as `str`, a `strptime` method from the `datetime` library is used to transform strings into date-time format. Subsequently, the value of the `disburse_time` is subtracted from the value of the `planned_expiration_time`, and `days` metod gives the value of this difference converted in days. \n",
    "Finally, a restricted view of the resulting dataframe is displayed. "
   ]
  },
  {
   "cell_type": "code",
   "execution_count": null,
   "metadata": {},
   "outputs": [],
   "source": [
    "from datetime import datetime as dt\n",
    "start_time = tm.time()\n",
    "loans['duration'] = None\n",
    "for index, row in loans.iterrows(): \n",
    "    s2 = row['planned_expiration_time']\n",
    "    s1 = row['disburse_time']\n",
    "    if( pd.notna(s1) and pd.notna(s2) and s1 != '' and s2 != ''):\n",
    "        d2 = dt.strptime(s2, \"%Y-%m-%d %H:%M:%S.%f %z\")\n",
    "        d1 = dt.strptime(s1, \"%Y-%m-%d %H:%M:%S.%f %z\")\n",
    "        loans.loc[index,'duration'] = (d2 - d1).days \n",
    "print(\"--- %s seconds ---\" % (tm.time()-start_time)) \n",
    "loans_restricted = loans[ ['loan_id', 'loan_name','planned_expiration_time', 'disburse_time', 'duration'] ]\n",
    "loans_restricted"
   ]
  },
  {
   "cell_type": "markdown",
   "metadata": {},
   "source": [
    "Hovewer, much efficient way of solving this task is to create an auxilliary function `daysbetween` which transforms input parameters from strings into date-time, and calulate the difference in days. Then the function is applied to each row of the `loans` dataframe. "
   ]
  },
  {
   "cell_type": "code",
   "execution_count": null,
   "metadata": {},
   "outputs": [],
   "source": [
    "from datetime import datetime as dt\n",
    "\n",
    "def daysbetween(s1,s2):\n",
    "    if( pd.notna(s1) and pd.notna(s2) and s1 != '' and s2 != ''):\n",
    "        d2 = dt.strptime(s2, \"%Y-%m-%d %H:%M:%S.%f %z\")\n",
    "        d1 = dt.strptime(s1, \"%Y-%m-%d %H:%M:%S.%f %z\")\n",
    "        return (d2 - d1).days \n",
    "    else:\n",
    "        return None\n",
    "\n",
    "start_time = tm.time()\n",
    "loans['duration'] = loans.apply(lambda x: daysbetween(x['disburse_time'],x['planned_expiration_time']), axis=1)\n",
    "print(\"--- %s seconds ---\" % (tm.time()-start_time)) \n",
    "loans_restricted = loans[ ['loan_id', 'loan_name','planned_expiration_time', 'disburse_time', 'duration'] ]\n",
    "loans_restricted"
   ]
  },
  {
   "cell_type": "markdown",
   "metadata": {},
   "source": [
    "## Task 3\n",
    "\n",
    "*Find the lenders that have funded at least twice.*"
   ]
  },
  {
   "cell_type": "markdown",
   "metadata": {},
   "source": [
    "For this analysis, the dataframe `loans-lenders`, resulting from the first task. Lenders that have corresponding two or more `loan_id` have funded at least twice. "
   ]
  },
  {
   "cell_type": "code",
   "execution_count": null,
   "metadata": {},
   "outputs": [],
   "source": [
    "start_time = tm.time()\n",
    "groups = loans_lenders.groupby(\"lender\").lender.count()\n",
    "groups\n",
    "lenders_2more = []\n",
    "for x in groups.iteritems(): \n",
    "    if x[1]  >= 2:\n",
    "        lenders_2more.append(x)\n",
    "print(\"--- %s seconds ---\" % (tm.time()-start_time)) \n",
    "lenders_2more"
   ]
  },
  {
   "cell_type": "markdown",
   "metadata": {},
   "source": [
    "## Task 4\n",
    "\n",
    "*For each country, compute how many loans have involved that country as borrowers.*"
   ]
  },
  {
   "cell_type": "markdown",
   "metadata": {},
   "source": [
    "From the dataframe `loans` I'm grouping by `country_name` and counting the `loan_id`."
   ]
  },
  {
   "cell_type": "code",
   "execution_count": null,
   "metadata": {},
   "outputs": [],
   "source": [
    "start_time = tm.time()\n",
    "countries = loans.groupby(\"country_name\").country_name.count()\n",
    "print(\"--- %s seconds ---\" % (tm.time()-start_time)) \n",
    "countries"
   ]
  },
  {
   "cell_type": "markdown",
   "metadata": {},
   "source": [
    "## Task 5\n",
    "\n",
    "*For each country, compute the overall amount of money borrowed.*"
   ]
  },
  {
   "cell_type": "markdown",
   "metadata": {},
   "source": [
    "Again, the dataframe `loans` is processed. After grouping by `country_name`, the `loan_amount` is summed."
   ]
  },
  {
   "cell_type": "code",
   "execution_count": null,
   "metadata": {},
   "outputs": [],
   "source": [
    "start_time = tm.time()\n",
    "amount_per_country = loans.groupby(\"country_name\").loan_amount.sum()\n",
    "print(\"--- %s seconds ---\" % (tm.time()-start_time)) \n",
    "amount_per_country "
   ]
  },
  {
   "cell_type": "markdown",
   "metadata": {},
   "source": [
    "## Task 6\n",
    "\n",
    "*Like the previous point, but expressed as a percentage of the overall amount lent* "
   ]
  },
  {
   "cell_type": "markdown",
   "metadata": {},
   "source": [
    "First the total amount is calculated. A helper function `calculate_percent` is created in order to calculate the percentage `loan_amount/total_amount*100`, and it is then applied to each row of the series `amount_per_country`."
   ]
  },
  {
   "cell_type": "code",
   "execution_count": null,
   "metadata": {},
   "outputs": [],
   "source": [
    "start_time = tm.time()\n",
    "total_amount = loans.loan_amount.sum()\n",
    "\n",
    "def calculate_percent(v):\n",
    "    return (v / total_amount) * 100\n",
    "\n",
    "percentage_per_country= amount_per_country.apply(lambda x: calculate_percent(x))\n",
    "print(\"--- %s seconds ---\" % (tm.time()-start_time)) \n",
    "percentage_per_country"
   ]
  },
  {
   "cell_type": "markdown",
   "metadata": {},
   "source": [
    "## Task 7\n",
    "\n",
    "*Like the three previous points, but split for each year (with respect to disburse time).*"
   ]
  },
  {
   "cell_type": "markdown",
   "metadata": {},
   "source": [
    "Firstly, an auxiliary function `year2` is made in order to enable extracting year from the date.  Subsequently this function is applied on each row of the `loans` dataframe enabling creation of new coulmn `disburse_year`."
   ]
  },
  {
   "cell_type": "code",
   "execution_count": null,
   "metadata": {},
   "outputs": [],
   "source": [
    "start_time = tm.time()\n",
    "from datetime import datetime as dt\n",
    "def year2 (s):\n",
    "    if( pd.notna(s) and s != ''):\n",
    "        d = dt.strptime(s, \"%Y-%m-%d %H:%M:%S.%f %z\")\n",
    "        return d.year\n",
    "    return None\n",
    "    \n",
    "loans[\"disburse_year\"] = loans.disburse_time.map(lambda x: year2(x))\n",
    "loans\n",
    "\n"
   ]
  },
  {
   "cell_type": "markdown",
   "metadata": {},
   "source": [
    "### Task 7.1\n",
    "\n",
    "*For each country, compute how many loans have involved that country as borrowers per year.*"
   ]
  },
  {
   "cell_type": "code",
   "execution_count": null,
   "metadata": {},
   "outputs": [],
   "source": [
    "start_time = tm.time()\n",
    "countries_per_year = loans.groupby([\"country_name\", \"disburse_year\"]).country_name.count()\n",
    "countries_per_year\n",
    "print(\"--- %s seconds ---\" % (tm.time()-start_time)) \n",
    "countries_per_year"
   ]
  },
  {
   "cell_type": "markdown",
   "metadata": {},
   "source": [
    "### Task 7.2\n",
    "\n",
    "*For each country, compute the overall amount of money borrowed per year.*"
   ]
  },
  {
   "cell_type": "code",
   "execution_count": null,
   "metadata": {
    "scrolled": true
   },
   "outputs": [],
   "source": [
    "amount_per_country_per_year = loans.groupby([\"country_name\",\"disburse_year\"]).loan_amount.sum()\n",
    "amount_per_country_per_year                                    \n"
   ]
  },
  {
   "cell_type": "markdown",
   "metadata": {},
   "source": [
    "### Task 7.3\n",
    "\n",
    "*Like the previous point, but expressed as a percentage of the overall amount lent per year.* "
   ]
  },
  {
   "cell_type": "markdown",
   "metadata": {},
   "source": [
    "Firstly, `total_amount_per_year` is calculated."
   ]
  },
  {
   "cell_type": "code",
   "execution_count": null,
   "metadata": {},
   "outputs": [],
   "source": [
    "total_amount_per_year = loans.groupby(\"disburse_year\").loan_amount.sum()\n",
    "total_amount_per_year"
   ]
  },
  {
   "cell_type": "markdown",
   "metadata": {},
   "source": [
    "An auxiliary function `find_total_per_year` is created in order to enable accessing the total amounts for each year, needed later to calculate the percentage. \n",
    "We iterate through `amount_per_country_per_year`, extract the loan amounts grouped by country and year, anc calculate the percentage. As a result, there is a list of dictionaries then converted in dataframe. "
   ]
  },
  {
   "cell_type": "code",
   "execution_count": null,
   "metadata": {},
   "outputs": [],
   "source": [
    "def find_total_per_year(y):\n",
    "    for x in total_amount_per_year.items():\n",
    "        if x[0] == y:\n",
    "            return x[1]\n",
    "    return 0\n",
    "\n",
    "result = []\n",
    "start_time = tm.time()\n",
    "for x in amount_per_country_per_year.items():\n",
    "    v = x[1]\n",
    "    y = x[0][1]\n",
    "    c = x[0][0]\n",
    "    tot = find_total_per_year(y)\n",
    "    perc = (v / tot) * 100\n",
    "    result.append({\"country_name\":c, \"disburse_year\":y, \"percent\":perc })\n",
    "result = pd.DataFrame(result)\n",
    "print(\"--- %s seconds ---\" % (tm.time()-start_time)) \n",
    "result"
   ]
  },
  {
   "cell_type": "markdown",
   "metadata": {},
   "source": [
    "## Task 8\n",
    "\n",
    "*For each lender, compute the overall amount of money lent. For each loan that has more than one lender, you must assume that all lenders contributed the same amount*"
   ]
  },
  {
   "cell_type": "markdown",
   "metadata": {},
   "source": [
    "Two dataframes, `loans` and `loans_lenders` are merged.\n",
    "The resulting dataframe `number_of_lenders_by_loan_id` has the number of lenders per each loan.\n",
    "The amount per lender is calculated assuming ttah each lender contributed the same to the loan amount. \n",
    "Finally, in order to obtain the total sum per lender, the dataframe is gro"
   ]
  },
  {
   "cell_type": "code",
   "execution_count": null,
   "metadata": {},
   "outputs": [],
   "source": [
    "start_time = tm.time()\n",
    "merged = pd.merge(left=loans_lenders,right=loans, left_on=\"loan_id\", right_on=\"loan_id\")\n",
    "merged = merged[[\"loan_id\",\"lender\", \"loan_amount\"]]\n",
    "number_of_lenders_by_loan_id = merged.groupby([\"loan_id\"], as_index = False)[[\"lender\"]].count()\n",
    "number_of_lenders_by_loan_id\n",
    "merged2 = pd.merge(left=merged,right=number_of_lenders_by_loan_id, left_on=\"loan_id\", right_on=\"loan_id\")\n",
    "merged2[\"amount_per_lender\"] = merged2.loan_amount / merged2.lender_y\n",
    "merged2\n",
    "lent_by_lender = merged2.groupby([\"lender_x\"], as_index = False)[[\"amount_per_lender\"]].sum()\n",
    "print(\"--- %s seconds ---\" % (tm.time()-start_time)) \n",
    "lent_by_lender"
   ]
  },
  {
   "cell_type": "markdown",
   "metadata": {},
   "source": [
    "## Task 9\n",
    "\n",
    "*For each country, compute the difference between the overall amount of money lent and the overall amount of money borrowed. Since the country of the lender is often unknown, you can assume that the true distribution among the countries is the same as the one computed from the rows where the country is known.*"
   ]
  },
  {
   "cell_type": "markdown",
   "metadata": {},
   "source": [
    "The file `lenders.csv` contains data related to lenders. `lender_states` is a newely created dataframe containing `country_code` and `permanent_name`."
   ]
  },
  {
   "cell_type": "code",
   "execution_count": null,
   "metadata": {},
   "outputs": [],
   "source": [
    "start_time = tm.time()\n",
    "lenders = pd.read_csv(\"./data/lenders.csv\")\n",
    "if not FINAL:\n",
    "    lenders = lenders.head(20000) \n",
    "lender_states = lenders[[\"permanent_name\",\"country_code\"]]\n",
    "print(\"--- %s seconds ---\" % (tm.time()-start_time)) \n",
    "lender_states"
   ]
  },
  {
   "cell_type": "markdown",
   "metadata": {},
   "source": [
    "The dataframe `lenders_in_states` contains data related to lenders whose country is known. "
   ]
  },
  {
   "cell_type": "code",
   "execution_count": null,
   "metadata": {},
   "outputs": [],
   "source": [
    "lenders_in_states = lender_states.loc[lender_states['country_code'].notnull()]\n",
    "lenders_in_states"
   ]
  },
  {
   "cell_type": "markdown",
   "metadata": {},
   "source": [
    "The dataframe `lenders_without_states` contains data related to lenders whose country is unknown or the data is missing. "
   ]
  },
  {
   "cell_type": "code",
   "execution_count": null,
   "metadata": {},
   "outputs": [],
   "source": [
    "lenders_without_states = lender_states.loc[lender_states[\"country_code\"].isnull()]\n",
    "lenders_without_states"
   ]
  },
  {
   "cell_type": "markdown",
   "metadata": {},
   "source": [
    "In order to calculate the participation of each country in total amount of lent loans, the following calculation is done:"
   ]
  },
  {
   "cell_type": "code",
   "execution_count": null,
   "metadata": {},
   "outputs": [],
   "source": [
    "start_time = tm.time()\n",
    "lent_and_state = pd.merge(left=lent_by_lender, right=lenders_in_states, left_on='lender_x', right_on='permanent_name')\n",
    "lent_total = lent_and_state['amount_per_lender'].sum()\n",
    "lent_by_state = lent_and_state.groupby(['country_code'], as_index = False\\\n",
    "                                      ).agg({'amount_per_lender':['count', 'sum', \\\n",
    "                                                               lambda x: x.sum()/lent_total]})\n",
    "lent_by_state.columns = ['country_code', 'lent_count', 'lent_sum', 'lent_factor']\n",
    "print(\"--- %s seconds ---\" % (tm.time()-start_time)) \n",
    "lent_by_state"
   ]
  },
  {
   "cell_type": "code",
   "execution_count": null,
   "metadata": {},
   "outputs": [],
   "source": [
    "lent_no_state = pd.merge(left=lent_by_lender, right=lenders_without_states, \\\n",
    "                         left_on='lender_x', right_on='permanent_name')\n",
    "lent_no_state_total = lent_no_state['amount_per_lender'].sum()\n",
    "lent_no_state_total"
   ]
  },
  {
   "cell_type": "code",
   "execution_count": null,
   "metadata": {},
   "outputs": [],
   "source": [
    "lent_by_state['additional_lent'] = lent_by_state.lent_factor * lent_no_state_total\n",
    "lent_by_state"
   ]
  },
  {
   "cell_type": "markdown",
   "metadata": {},
   "source": [
    "`loan_and_state` is the dataframe obtained by reducing the `loans` dataframe to the following three columns:"
   ]
  },
  {
   "cell_type": "code",
   "execution_count": null,
   "metadata": {},
   "outputs": [],
   "source": [
    "loan_and_state = loans[['loan_id','country_code','loan_amount']]\n",
    "loan_and_state"
   ]
  },
  {
   "cell_type": "markdown",
   "metadata": {},
   "source": [
    "The loan amount per contry is calculated."
   ]
  },
  {
   "cell_type": "code",
   "execution_count": null,
   "metadata": {},
   "outputs": [],
   "source": [
    "start_time = tm.time()\n",
    "loan_by_state = loan_and_state.groupby(['country_code'], as_index = False).loan_amount.sum()\n",
    "loan_by_state.columns = ['country_code','loan_amount_sum']\n",
    "print(\"--- %s seconds ---\" % (tm.time()-start_time)) \n",
    "loan_by_state"
   ]
  },
  {
   "cell_type": "code",
   "execution_count": null,
   "metadata": {},
   "outputs": [],
   "source": [
    "start_time = tm.time()\n",
    "loan_and_lent = pd.merge(loan_by_state, lent_by_state, how='left', on=['country_code'])\n",
    "loan_and_lent['difference'] = loan_and_lent.loan_amount_sum - loan_and_lent.lent_sum - loan_and_lent.additional_lent \n",
    "print(\"--- %s seconds ---\" % (tm.time()-start_time)) \n",
    "loan_and_lent[loan_and_lent.difference == loan_and_lent.difference.max()]\n"
   ]
  },
  {
   "cell_type": "code",
   "execution_count": null,
   "metadata": {},
   "outputs": [],
   "source": []
  }
 ],
 "metadata": {
  "kernelspec": {
   "display_name": "Python 3",
   "language": "python",
   "name": "python3"
  },
  "language_info": {
   "codemirror_mode": {
    "name": "ipython",
    "version": 3
   },
   "file_extension": ".py",
   "mimetype": "text/x-python",
   "name": "python",
   "nbconvert_exporter": "python",
   "pygments_lexer": "ipython3",
   "version": "3.7.4"
  }
 },
 "nbformat": 4,
 "nbformat_minor": 2
}
